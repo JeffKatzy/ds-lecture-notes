{
 "cells": [
  {
   "cell_type": "code",
   "execution_count": null,
   "metadata": {},
   "outputs": [],
   "source": [
    "from sqlalchemy.ext.declarative import declarative_base\n",
    "from sqlalchemy import Column, Integer, Text, ForeignKey, String\n",
    "\n",
    "from sqlalchemy.orm import sessionmaker, relationship, backref\n",
    "import sqlalchemy\n",
    "\n",
    "Base = declarative_base()\n",
    "\n",
    "class Bartender(Base):\n",
    "    __tablename__ = 'bartenders'\n",
    "    id = Column(Integer, primary_key = True)\n",
    "    name = Column(Text)\n",
    "    hometown = Column(Text)\n",
    "    birthyear = Column(Integer)\n",
    "    customers = relationship(\"Customer\", secondary=\"orders\", back_populates=\"bartenders\")\n",
    "\n",
    "class Order(Base):\n",
    "    __tablename__ = 'orders'\n",
    "    id = Column(Integer, primary_key = True)\n",
    "    customer = relationship(\"Customer\")\n",
    "    customer_id = Column(Integer, ForeignKey('customers.id'))\n",
    "    bartender_id = Column(Integer, ForeignKey('bartenders.id'))\n",
    "    bartender = relationship(Bartender)\n",
    "    drink_id = Column(Integer, ForeignKey('drinks.id'))\n",
    "\n",
    "class Customer(Base):\n",
    "    __tablename__ = 'customers'\n",
    "    id = Column(Integer, primary_key = True)\n",
    "    name = Column(Text)\n",
    "    hometown = Column(Text)\n",
    "    birthyear = Column(Integer)\n",
    "    bartenders = relationship(Bartender, secondary=\"orders\", back_populates=\"customers\", lazy='dynamic')\n",
    "\n",
    "engine = sqlalchemy.create_engine('sqlite:///moes.db', echo=True)\n",
    "Base.metadata.create_all(engine)\n",
    "\n",
    "Session = sessionmaker(bind=engine)\n",
    "session = Session()\n"
   ]
  }
 ],
 "metadata": {
  "kernelspec": {
   "display_name": "Python 3",
   "language": "python",
   "name": "python3"
  },
  "language_info": {
   "codemirror_mode": {
    "name": "ipython",
    "version": 3
   },
   "file_extension": ".py",
   "mimetype": "text/x-python",
   "name": "python",
   "nbconvert_exporter": "python",
   "pygments_lexer": "ipython3",
   "version": "3.5.5"
  }
 },
 "nbformat": 4,
 "nbformat_minor": 2
}
