{
 "cells": [
  {
   "cell_type": "markdown",
   "metadata": {},
   "source": [
    "### CTE"
   ]
  },
  {
   "cell_type": "markdown",
   "metadata": {},
   "source": [
    "Use the temporary records in a subsequent select \n",
    "* Creates a temporary set of records which can reuse in another "
   ]
  },
  {
   "cell_type": "code",
   "execution_count": 2,
   "metadata": {},
   "outputs": [],
   "source": [
    "yelp_dataset_url = \"https://raw.githubusercontent.com/ledeprogram/courses/master/foundations/mapping/tilemill/yelp-lunch-nyc.csv\""
   ]
  },
  {
   "cell_type": "code",
   "execution_count": 8,
   "metadata": {},
   "outputs": [],
   "source": [
    "import pandas as pd\n",
    "import sqlite3\n",
    "\n",
    "yelp_data = pd.read_csv(yelp_dataset_url)\n",
    "\n",
    "conn = sqlite3.connect('restaurants.db')\n",
    "yelp_data.to_sql(\"restaurants\", conn, if_exists='append', index=False)\n",
    "cursor = conn.cursor()"
   ]
  },
  {
   "cell_type": "code",
   "execution_count": 9,
   "metadata": {},
   "outputs": [
    {
     "data": {
      "text/plain": [
       "'\\n    WITH city_restaurants AS \\n        (\\n            SELECT city, AVG(rating) as average_city_rating, count(*) as number_of_restaurants FROM RESTAURANTS GROUP BY city\\n        )\\n    SELECT city, number_of_restaurants, max(average_city_rating) from city_restaurants where number_of_restaurants > 20;\\n'"
      ]
     },
     "execution_count": 9,
     "metadata": {},
     "output_type": "execute_result"
    }
   ],
   "source": [
    "sql = \"\"\"\n",
    "    WITH city_restaurants AS \n",
    "        (\n",
    "            SELECT city, AVG(rating) as average_city_rating, count(*) as number_of_restaurants FROM RESTAURANTS GROUP BY city\n",
    "        )\n",
    "    SELECT city, number_of_restaurants, max(average_city_rating) from city_restaurants where number_of_restaurants > 20;\n",
    "\"\"\"\n",
    "sql\n"
   ]
  },
  {
   "cell_type": "code",
   "execution_count": 10,
   "metadata": {},
   "outputs": [
    {
     "data": {
      "text/plain": [
       "<sqlite3.Cursor at 0x10d8af260>"
      ]
     },
     "execution_count": 10,
     "metadata": {},
     "output_type": "execute_result"
    }
   ],
   "source": [
    "cursor.execute(sql)"
   ]
  },
  {
   "cell_type": "code",
   "execution_count": 11,
   "metadata": {},
   "outputs": [
    {
     "data": {
      "text/plain": [
       "[('Queens Village', 26, 4.326923076923077)]"
      ]
     },
     "execution_count": 11,
     "metadata": {},
     "output_type": "execute_result"
    }
   ],
   "source": [
    "cursor.fetchall()"
   ]
  },
  {
   "cell_type": "markdown",
   "metadata": {},
   "source": [
    "Resources: \n",
    "    [CTE readme](https://www.essentialsql.com/introduction-common-table-expressions-ctes/)\n",
    "    [CTE video](https://www.youtube.com/watch?v=U0wXjUi2v_U)"
   ]
  },
  {
   "cell_type": "markdown",
   "metadata": {},
   "source": [
    "### Window Functions"
   ]
  },
  {
   "cell_type": "markdown",
   "metadata": {},
   "source": [
    "* Used for data analysis calculations\n",
    "\n",
    "https://www.youtube.com/watch?v=H6OTMoXjNiM&t=5s\n",
    "https://www.youtube.com/watch?v=qSkuKcj48xU\n",
    "\n",
    "https://drill.apache.org/docs/sql-window-functions-introduction/"
   ]
  }
 ],
 "metadata": {
  "kernelspec": {
   "display_name": "Python 3",
   "language": "python",
   "name": "python3"
  },
  "language_info": {
   "codemirror_mode": {
    "name": "ipython",
    "version": 3
   },
   "file_extension": ".py",
   "mimetype": "text/x-python",
   "name": "python",
   "nbconvert_exporter": "python",
   "pygments_lexer": "ipython3",
   "version": "3.5.5"
  }
 },
 "nbformat": 4,
 "nbformat_minor": 2
}
