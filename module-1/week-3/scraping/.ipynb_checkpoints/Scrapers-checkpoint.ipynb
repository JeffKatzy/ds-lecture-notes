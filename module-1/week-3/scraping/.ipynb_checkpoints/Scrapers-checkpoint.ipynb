{
 "cells": [
  {
   "cell_type": "markdown",
   "metadata": {},
   "source": [
    "### Sample Code"
   ]
  },
  {
   "cell_type": "code",
   "execution_count": 1,
   "metadata": {},
   "outputs": [],
   "source": [
    "import bs4\n",
    "import requests\n",
    "\n",
    "class CraigsList:\n",
    "\n",
    "    def __init__(self):\n",
    "        self.text = requests.get('https://newyork.craigslist.org/search/aap').text\n",
    "        self.soup = bs4.BeautifulSoup(self.text)\n",
    "\n",
    "    def apartment_rows(self):\n",
    "        return self.soup.find_all(class_='rows')\n",
    "\n",
    "    def apartment_row(self):\n",
    "        return self.apartment_rows()[0]\n",
    "\n",
    "    def apartment_row_info(self):\n",
    "        return self.apartment_row().find(class_=\"result-info\")\n",
    "\n",
    "    def apartment_row_date(self):\n",
    "        from datetime import datetime\n",
    "        time = datetime.strptime(time, '%Y-%m-%d %H:%M')\n",
    "        \n",
    "        return self.apartment_row_info().find(class_=\"result-date\")\n",
    "\n",
    "    def apartment_row_title(self):\n",
    "        return self.apartment_row_info().find(class_=\"result-title\").text\n",
    "\n",
    "    def apartment_row_price(self):\n",
    "        return self.apartment_row_info().find(class_=\"result-price\").text\n",
    "\n",
    "    def apartment_row_hood(self):\n",
    "        return self.apartment_row_info().find(class_=\"result-hood\").text\n"
   ]
  },
  {
   "cell_type": "code",
   "execution_count": 3,
   "metadata": {},
   "outputs": [],
   "source": [
    "# apartment.py \n",
    "from sqlalchemy import Column, Integer, Text, String, DateTime\n",
    "import sqlalchemy\n",
    "from sqlalchemy.ext.declarative import declarative_base\n",
    "Base = declarative_base()\n",
    "\n",
    "class Apartment(Base):\n",
    "    __tablename__ = 'apartments'\n",
    "    id = Column(Integer, primary_key = True)\n",
    "    title = Column(Text)\n",
    "    price = Column(Integer)\n",
    "    date = Column(DateTime)\n",
    "    neighborhood = Column(Text)\n"
   ]
  },
  {
   "cell_type": "code",
   "execution_count": null,
   "metadata": {},
   "outputs": [],
   "source": [
    "# console.py\n",
    "\n",
    "from apartment import Apartment\n",
    "from craigslist import CraigsList\n",
    "import sqlalchemy\n",
    "engine = sqlalchemy.create_engine('sqlite:///craigslist.db', echo=True)\n",
    "from apartment import Base\n",
    "\n",
    "Base.metadata.create_all(engine)\n",
    "\n",
    "from sqlalchemy.orm import sessionmaker\n",
    "Session \n",
    "= sessionmaker(bind=engine)\n",
    "session = Session()\n"
   ]
  },
  {
   "cell_type": "code",
   "execution_count": null,
   "metadata": {},
   "outputs": [],
   "source": []
  }
 ],
 "metadata": {
  "kernelspec": {
   "display_name": "Python 3",
   "language": "python",
   "name": "python3"
  },
  "language_info": {
   "codemirror_mode": {
    "name": "ipython",
    "version": 3
   },
   "file_extension": ".py",
   "mimetype": "text/x-python",
   "name": "python",
   "nbconvert_exporter": "python",
   "pygments_lexer": "ipython3",
   "version": "3.5.5"
  }
 },
 "nbformat": 4,
 "nbformat_minor": 2
}
