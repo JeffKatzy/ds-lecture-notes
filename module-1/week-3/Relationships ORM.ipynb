{
 "cells": [
  {
   "cell_type": "code",
   "execution_count": 1,
   "metadata": {},
   "outputs": [
    {
     "name": "stdout",
     "output_type": "stream",
     "text": [
      "2018-07-12 10:47:03,794 INFO sqlalchemy.engine.base.Engine SELECT CAST('test plain returns' AS VARCHAR(60)) AS anon_1\n",
      "2018-07-12 10:47:03,796 INFO sqlalchemy.engine.base.Engine ()\n",
      "2018-07-12 10:47:03,799 INFO sqlalchemy.engine.base.Engine SELECT CAST('test unicode returns' AS VARCHAR(60)) AS anon_1\n",
      "2018-07-12 10:47:03,801 INFO sqlalchemy.engine.base.Engine ()\n",
      "2018-07-12 10:47:03,804 INFO sqlalchemy.engine.base.Engine PRAGMA table_info(\"campuses\")\n",
      "2018-07-12 10:47:03,806 INFO sqlalchemy.engine.base.Engine ()\n",
      "2018-07-12 10:47:03,811 INFO sqlalchemy.engine.base.Engine PRAGMA table_info(\"teachers\")\n",
      "2018-07-12 10:47:03,813 INFO sqlalchemy.engine.base.Engine ()\n"
     ]
    }
   ],
   "source": [
    "from sqlalchemy.ext.declarative import declarative_base\n",
    "from sqlalchemy import Column, Integer, Text, ForeignKey\n",
    "\n",
    "from sqlalchemy.orm import sessionmaker, relationship, backref\n",
    "import sqlalchemy\n",
    "\n",
    "Base = declarative_base()\n",
    "\n",
    "class Campus(Base):\n",
    "    __tablename__ = 'campuses'\n",
    "    id = Column(Integer, primary_key = True)\n",
    "    location_name = Column(Text)\n",
    "    teachers = relationship(\"Teacher\", back_populates=\"campus\")\n",
    "\n",
    "class Teacher(Base):\n",
    "    __tablename__ = 'teachers'\n",
    "    id = Column(Integer, primary_key = True)\n",
    "    name = Column(Text)\n",
    "    campus_id = Column(Integer, ForeignKey('campuses.id'))\n",
    "    campus = relationship(Campus, back_populates=\"teachers\")\n",
    "\n",
    "engine = sqlalchemy.create_engine('sqlite:///school.db', echo=True)\n",
    "Base.metadata.create_all(engine)\n",
    "\n",
    "Session = sessionmaker(bind=engine)\n",
    "session = Session()\n"
   ]
  },
  {
   "cell_type": "code",
   "execution_count": null,
   "metadata": {},
   "outputs": [],
   "source": []
  }
 ],
 "metadata": {
  "kernelspec": {
   "display_name": "Python 3",
   "language": "python",
   "name": "python3"
  },
  "language_info": {
   "codemirror_mode": {
    "name": "ipython",
    "version": 3
   },
   "file_extension": ".py",
   "mimetype": "text/x-python",
   "name": "python",
   "nbconvert_exporter": "python",
   "pygments_lexer": "ipython3",
   "version": "3.5.5"
  }
 },
 "nbformat": 4,
 "nbformat_minor": 2
}
