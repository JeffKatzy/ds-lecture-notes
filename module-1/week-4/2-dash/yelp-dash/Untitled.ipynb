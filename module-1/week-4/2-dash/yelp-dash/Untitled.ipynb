{
 "cells": [
  {
   "cell_type": "code",
   "execution_count": 1,
   "metadata": {},
   "outputs": [],
   "source": [
    "import pandas as pd"
   ]
  },
  {
   "cell_type": "code",
   "execution_count": 2,
   "metadata": {},
   "outputs": [],
   "source": [
    "yelp_url = 'https://raw.githubusercontent.com/ledeprogram/courses/master/foundations/mapping/tilemill/yelp-lunch-nyc.csv'"
   ]
  },
  {
   "cell_type": "code",
   "execution_count": 3,
   "metadata": {},
   "outputs": [],
   "source": [
    "records = pd.read_csv(yelp_url)"
   ]
  },
  {
   "cell_type": "code",
   "execution_count": 19,
   "metadata": {},
   "outputs": [],
   "source": [
    "restaurants = records.to_dict('records')"
   ]
  },
  {
   "cell_type": "code",
   "execution_count": 5,
   "metadata": {},
   "outputs": [
    {
     "data": {
      "text/plain": [
       "dict_keys(['Address', 'Category', 'Rating', 'Name', 'URL', 'City'])"
      ]
     },
     "execution_count": 5,
     "metadata": {},
     "output_type": "execute_result"
    }
   ],
   "source": [
    "restaurants[0].keys()"
   ]
  },
  {
   "cell_type": "code",
   "execution_count": 21,
   "metadata": {},
   "outputs": [],
   "source": [
    "categories = list(set(list(map(lambda restaurant: restaurant['Category'],restaurants))))"
   ]
  },
  {
   "cell_type": "code",
   "execution_count": 22,
   "metadata": {},
   "outputs": [
    {
     "data": {
      "text/plain": [
       "['Indian',\n",
       " 'Tapas Bars',\n",
       " 'Music Venues',\n",
       " 'Vegetarian',\n",
       " 'Fast Food',\n",
       " 'Irish',\n",
       " 'Malaysian',\n",
       " 'Brazilian',\n",
       " 'Street Vendors',\n",
       " 'Ukrainian',\n",
       " 'Buffets',\n",
       " 'Senegalese',\n",
       " 'German',\n",
       " 'Sushi Bars',\n",
       " 'Pizza',\n",
       " 'Local Flavor',\n",
       " 'Spanish',\n",
       " 'Pubs',\n",
       " 'Health Markets',\n",
       " 'Bubble Tea',\n",
       " 'Haitian',\n",
       " 'Kosher',\n",
       " 'Greek',\n",
       " 'Diners',\n",
       " 'Dominican',\n",
       " 'American (Traditional)',\n",
       " 'Modern European',\n",
       " 'Turkish',\n",
       " 'Korean',\n",
       " 'Wine Bars',\n",
       " 'Mediterranean',\n",
       " 'Barbeque',\n",
       " 'Fruits & Veggies',\n",
       " 'Cajun/Creole',\n",
       " 'Szechuan',\n",
       " 'Asian Fusion',\n",
       " 'French',\n",
       " 'Gas & Service Stations',\n",
       " 'Creperies',\n",
       " 'Pakistani',\n",
       " 'Desserts',\n",
       " 'Japanese',\n",
       " 'Seafood',\n",
       " 'Ice Cream & Frozen Yogurt',\n",
       " 'Bars',\n",
       " 'Polish',\n",
       " 'Uzbek',\n",
       " 'Restaurants',\n",
       " 'Vietnamese',\n",
       " 'Lebanese',\n",
       " 'Taiwanese',\n",
       " 'Grocery',\n",
       " 'Chicken Wings',\n",
       " 'Southern',\n",
       " 'Thai',\n",
       " 'Comfort Food',\n",
       " 'Cafes',\n",
       " 'Breakfast & Brunch',\n",
       " 'Cuban',\n",
       " 'Russian',\n",
       " 'Bagels',\n",
       " 'Delis',\n",
       " 'Steakhouses',\n",
       " 'Soul Food',\n",
       " 'Sandwiches',\n",
       " 'Coffee & Tea',\n",
       " 'Hot Dogs',\n",
       " 'Lounges',\n",
       " 'American (New)',\n",
       " 'Cheese Shops',\n",
       " 'Venezuelan',\n",
       " 'Ramen',\n",
       " 'Argentine',\n",
       " 'Cantonese',\n",
       " 'Halal',\n",
       " 'Caterers',\n",
       " 'Falafel',\n",
       " 'Chinese',\n",
       " 'Juice Bars & Smoothies',\n",
       " 'Bakeries',\n",
       " 'Meat Shops',\n",
       " 'Filipino',\n",
       " 'Middle Eastern',\n",
       " 'Cambodian',\n",
       " 'Shanghainese',\n",
       " 'Burgers',\n",
       " 'Sports Bars',\n",
       " 'Gastropubs',\n",
       " 'Trinidadian',\n",
       " 'Specialty Food',\n",
       " 'Italian',\n",
       " 'Vegan',\n",
       " 'Latin American',\n",
       " 'Afghan',\n",
       " 'Ethnic Food',\n",
       " 'Caribbean',\n",
       " 'Seafood Markets',\n",
       " 'Food',\n",
       " 'Mexican',\n",
       " 'Peruvian',\n",
       " 'Food Stands',\n",
       " 'Food Delivery Services',\n",
       " 'Salad',\n",
       " 'Tex-Mex',\n",
       " 'Hawaiian']"
      ]
     },
     "execution_count": 22,
     "metadata": {},
     "output_type": "execute_result"
    }
   ],
   "source": [
    "categories"
   ]
  },
  {
   "cell_type": "code",
   "execution_count": 20,
   "metadata": {},
   "outputs": [
    {
     "data": {
      "text/plain": [
       "'Pubs'"
      ]
     },
     "execution_count": 20,
     "metadata": {},
     "output_type": "execute_result"
    }
   ],
   "source": [
    "restaurants[0]['Category']"
   ]
  },
  {
   "cell_type": "code",
   "execution_count": 7,
   "metadata": {},
   "outputs": [
    {
     "data": {
      "text/plain": [
       "[1.5, 2.0, 3.0, 2.5, 3.5, 4.0, 4.5, 5.0, 1.0]"
      ]
     },
     "execution_count": 7,
     "metadata": {},
     "output_type": "execute_result"
    }
   ],
   "source": [
    "ratings = list(set(list(map(lambda restaurant: restaurant['Rating'],restaurants))))\n",
    "ratings\n",
    "# 1 -> 5, by .5"
   ]
  },
  {
   "cell_type": "code",
   "execution_count": 8,
   "metadata": {},
   "outputs": [
    {
     "data": {
      "text/plain": [
       "['Cambria Heights',\n",
       " 'Manhattan',\n",
       " 'Howard Beach',\n",
       " 'Woodhaven',\n",
       " 'Fort Lee',\n",
       " 'Broad Channel',\n",
       " 'Whitestone',\n",
       " 'Ridgewood',\n",
       " 'Fresh Meadows',\n",
       " 'Port Reading',\n",
       " 'Rockaway Park',\n",
       " 'Clifton',\n",
       " 'Coney Island',\n",
       " 'Woodside',\n",
       " 'Newark',\n",
       " 'Elmont',\n",
       " 'Financial District',\n",
       " 'Maspeth',\n",
       " 'Elizabeth',\n",
       " 'Sunnyside',\n",
       " 'Brooklyn',\n",
       " 'Springfield Gardens',\n",
       " 'Oakland Gardens',\n",
       " 'Inwood',\n",
       " 'Great Neck',\n",
       " 'New York',\n",
       " 'Long Beach',\n",
       " 'South Richmond Hill',\n",
       " 'Astoria',\n",
       " 'Valley Stream',\n",
       " 'Perth Amboy',\n",
       " 'Long Island City',\n",
       " 'Queens',\n",
       " 'Staten Island',\n",
       " 'Woodbridge',\n",
       " 'Lynbrook',\n",
       " 'Arverne',\n",
       " 'Staten Island NY',\n",
       " 'Corona',\n",
       " 'Glendale',\n",
       " 'Hollis',\n",
       " 'Fresh Meadow',\n",
       " 'South Amboy',\n",
       " 'Briarwood',\n",
       " 'Breezy Point',\n",
       " 'East Elmhurst',\n",
       " 'Little Neck',\n",
       " 'Pelham Manor',\n",
       " 'New Hyde Park',\n",
       " 'Rockaway Beach',\n",
       " 'Edgewater',\n",
       " 'Far Rockaway',\n",
       " 'Harlem',\n",
       " 'South Ozone Park',\n",
       " 'Bayside',\n",
       " 'Jackson Heights',\n",
       " 'Glen Oaks',\n",
       " 'Lawrence',\n",
       " 'Bronx',\n",
       " 'Englewood Cliffs',\n",
       " 'Hewlett',\n",
       " 'Mount Vernon',\n",
       " 'Bayonne',\n",
       " 'Kew Gardens',\n",
       " 'Rockaway',\n",
       " 'Douglaston',\n",
       " 'Englewood',\n",
       " 'Ozone Park',\n",
       " 'Woodmere',\n",
       " 'Queens Village',\n",
       " 'Middle Village',\n",
       " 'Forest Hills',\n",
       " 'Flushing',\n",
       " 'Rego Park',\n",
       " 'MIddle Village',\n",
       " 'Floral Park',\n",
       " 'Jamaica',\n",
       " 'Bellerose',\n",
       " 'Yonkers',\n",
       " 'Rosedale',\n",
       " 'Cedarhurst',\n",
       " 'College Point',\n",
       " 'Richmond Hill',\n",
       " 'Belle Harbor',\n",
       " 'Elmhurst']"
      ]
     },
     "execution_count": 8,
     "metadata": {},
     "output_type": "execute_result"
    }
   ],
   "source": [
    "cities = list(set(list(map(lambda restaurant: restaurant['City'],restaurants))))\n",
    "cities"
   ]
  }
 ],
 "metadata": {
  "kernelspec": {
   "display_name": "Python 3",
   "language": "python",
   "name": "python3"
  },
  "language_info": {
   "codemirror_mode": {
    "name": "ipython",
    "version": 3
   },
   "file_extension": ".py",
   "mimetype": "text/x-python",
   "name": "python",
   "nbconvert_exporter": "python",
   "pygments_lexer": "ipython3",
   "version": "3.5.5"
  }
 },
 "nbformat": 4,
 "nbformat_minor": 2
}
