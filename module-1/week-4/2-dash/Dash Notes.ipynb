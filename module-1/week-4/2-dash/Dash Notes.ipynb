{
 "cells": [
  {
   "cell_type": "code",
   "execution_count": null,
   "metadata": {},
   "outputs": [],
   "source": [
    " # routes.py\n",
    "\n",
    "import pdb\n",
    "from package.models import *\n",
    "from package import server\n",
    "from package.plotly import trace_values\n",
    "\n",
    "@server.route('/')\n",
    "def show():\n",
    "    customer = Customer.query.get(1)\n",
    "    return customer.name\n",
    "\n",
    "def customer_orders_trace():\n",
    "    customers = Customer.query.all()\n",
    "    customer_names = [customer.name for customer in customers]\n",
    "    customer_orders = [customer.orders.count() for customer in customers]\n",
    "    orders_trace = trace_values(customer_names, customer_orders, type='bar')\n",
    "    return orders_trace\n"
   ]
  },
  {
   "cell_type": "code",
   "execution_count": null,
   "metadata": {
    "scrolled": true
   },
   "outputs": [],
   "source": [
    "# dashboard.py\n",
    "\n",
    "import dash_core_components as dcc\n",
    "import dash_html_components as html\n",
    "from package import app\n",
    "from package.routes import customer_orders_trace\n",
    "\n",
    "orders_trace = customer_orders_trace()\n",
    "\n",
    "app.layout = html.Div(children=[\n",
    "    html.H1('hello world'),\n",
    "    dcc.Graph(\n",
    "        id = \"uber_pricing_graph\",\n",
    "        figure = {\n",
    "            'data': [orders_trace],\n",
    "            'layout': {\n",
    "                'title': 'Uber Pricing in Brooklyn and Manhattan'\n",
    "            }\n",
    "        }\n",
    "    )\n",
    "])\n"
   ]
  },
  {
   "cell_type": "code",
   "execution_count": null,
   "metadata": {},
   "outputs": [],
   "source": [
    "# init.py\n",
    "\n",
    "\n",
    "\n",
    "from flask import Flask, request, render_template\n",
    "from flask_sqlalchemy import SQLAlchemy\n",
    "from flask_migrate import Migrate\n",
    "import dash_core_components as dcc\n",
    "import dash_html_components as html\n",
    "\n",
    "import pdb\n",
    "import dash\n",
    "# print(__name__, 'from package.py')\n",
    "\n",
    "server = Flask(__name__)\n",
    "server.config[\"SQLALCHEMY_DATABASE_URI\"] = 'sqlite:///moes.db'\n",
    "server.config['SQLALCHEMY_TRACK_MODIFICATIONS'] = False\n",
    "server.config['SQLALCHEMY_ECHO'] = True\n",
    "\n",
    "db = SQLAlchemy(server)\n",
    "migrate = Migrate(server, db)\n",
    "from package.models import *\n",
    "\n",
    "app = dash.Dash(__name__, server=server, url_base_pathname='/dashboard')\n",
    "\n",
    "from package.dashboard import app\n",
    "import package.routes\n"
   ]
  }
 ],
 "metadata": {
  "kernelspec": {
   "display_name": "Python 3",
   "language": "python",
   "name": "python3"
  }
 },
 "nbformat": 4,
 "nbformat_minor": 2
}
