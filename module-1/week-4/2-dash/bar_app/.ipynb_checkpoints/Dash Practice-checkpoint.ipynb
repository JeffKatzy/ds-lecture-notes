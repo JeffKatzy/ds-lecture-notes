{
 "cells": [
  {
   "cell_type": "markdown",
   "metadata": {},
   "source": [
    "### Dash practice"
   ]
  },
  {
   "cell_type": "code",
   "execution_count": 26,
   "metadata": {},
   "outputs": [],
   "source": [
    "from package.routes import customer_orders_trace"
   ]
  },
  {
   "cell_type": "code",
   "execution_count": 29,
   "metadata": {},
   "outputs": [],
   "source": [
    "from package.plotly import trace_values"
   ]
  },
  {
   "cell_type": "code",
   "execution_count": 30,
   "metadata": {},
   "outputs": [
    {
     "data": {
      "text/plain": [
       "<function package.plotly.trace_values(x_values, y_values, mode='markers', name='data', text=[], type='scatter', options={})>"
      ]
     },
     "execution_count": 30,
     "metadata": {},
     "output_type": "execute_result"
    }
   ],
   "source": [
    "trace_values"
   ]
  },
  {
   "cell_type": "code",
   "execution_count": 18,
   "metadata": {},
   "outputs": [
    {
     "data": {
      "text/plain": [
       "{'mode': 'markers',\n",
       " 'name': 'data',\n",
       " 'text': [],\n",
       " 'type': 'bar',\n",
       " 'x': ['bart simpson', 'maggie simpson', 'lisa'],\n",
       " 'y': [7, 8, 4]}"
      ]
     },
     "execution_count": 18,
     "metadata": {},
     "output_type": "execute_result"
    }
   ],
   "source": [
    "trace"
   ]
  },
  {
   "cell_type": "code",
   "execution_count": 10,
   "metadata": {},
   "outputs": [
    {
     "data": {
      "text/html": [
       "<script>requirejs.config({paths: { 'plotly': ['https://cdn.plot.ly/plotly-latest.min']},});if(!window.Plotly) {{require(['plotly'],function(plotly) {window.Plotly=plotly;});}}</script>"
      ],
      "text/vnd.plotly.v1+html": [
       "<script>requirejs.config({paths: { 'plotly': ['https://cdn.plot.ly/plotly-latest.min']},});if(!window.Plotly) {{require(['plotly'],function(plotly) {window.Plotly=plotly;});}}</script>"
      ]
     },
     "metadata": {},
     "output_type": "display_data"
    }
   ],
   "source": [
    "import plotly\n",
    "\n",
    "plotly.offline.init_notebook_mode(connected=True)"
   ]
  },
  {
   "cell_type": "code",
   "execution_count": 15,
   "metadata": {},
   "outputs": [
    {
     "data": {
      "application/vnd.plotly.v1+json": {
       "data": [
        {
         "name": "data",
         "text": [],
         "type": "bar",
         "uid": "8e557cd4-89e8-11e8-a874-a4d18ccc1f8a",
         "x": [
          "bart simpson",
          "maggie simpson",
          "lisa"
         ],
         "y": [
          7,
          8,
          4
         ]
        }
       ],
       "layout": {}
      },
      "text/html": [
       "<div id=\"0dbc0d39-36e4-44ae-8f2a-2591e5407cc5\" style=\"height: 525px; width: 100%;\" class=\"plotly-graph-div\"></div><script type=\"text/javascript\">require([\"plotly\"], function(Plotly) { window.PLOTLYENV=window.PLOTLYENV || {};window.PLOTLYENV.BASE_URL=\"https://plot.ly\";Plotly.newPlot(\"0dbc0d39-36e4-44ae-8f2a-2591e5407cc5\", [{\"text\": [], \"uid\": \"8e61ab3a-89e8-11e8-b212-a4d18ccc1f8a\", \"type\": \"bar\", \"y\": [7, 8, 4], \"name\": \"data\", \"x\": [\"bart simpson\", \"maggie simpson\", \"lisa\"]}], {}, {\"showLink\": true, \"linkText\": \"Export to plot.ly\"})});</script>"
      ],
      "text/vnd.plotly.v1+html": [
       "<div id=\"0dbc0d39-36e4-44ae-8f2a-2591e5407cc5\" style=\"height: 525px; width: 100%;\" class=\"plotly-graph-div\"></div><script type=\"text/javascript\">require([\"plotly\"], function(Plotly) { window.PLOTLYENV=window.PLOTLYENV || {};window.PLOTLYENV.BASE_URL=\"https://plot.ly\";Plotly.newPlot(\"0dbc0d39-36e4-44ae-8f2a-2591e5407cc5\", [{\"text\": [], \"uid\": \"8e61ab3a-89e8-11e8-b212-a4d18ccc1f8a\", \"type\": \"bar\", \"y\": [7, 8, 4], \"name\": \"data\", \"x\": [\"bart simpson\", \"maggie simpson\", \"lisa\"]}], {}, {\"showLink\": true, \"linkText\": \"Export to plot.ly\"})});</script>"
      ]
     },
     "metadata": {},
     "output_type": "display_data"
    }
   ],
   "source": [
    "trace0 = {'name': 'data',\n",
    " 'text': [],\n",
    " 'type': 'bar',\n",
    " 'x': ['bart simpson', 'maggie simpson', 'lisa'],\n",
    " 'y': [7, 8, 4]}\n",
    "plotly.offline.iplot([trace0])"
   ]
  },
  {
   "cell_type": "code",
   "execution_count": null,
   "metadata": {},
   "outputs": [],
   "source": []
  }
 ],
 "metadata": {
  "kernelspec": {
   "display_name": "Python 3",
   "language": "python",
   "name": "python3"
  },
  "language_info": {
   "codemirror_mode": {
    "name": "ipython",
    "version": 3
   },
   "file_extension": ".py",
   "mimetype": "text/x-python",
   "name": "python",
   "nbconvert_exporter": "python",
   "pygments_lexer": "ipython3",
   "version": "3.5.5"
  }
 },
 "nbformat": 4,
 "nbformat_minor": 2
}
