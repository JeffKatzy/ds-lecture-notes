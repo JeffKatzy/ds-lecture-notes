{
 "cells": [
  {
   "cell_type": "markdown",
   "metadata": {},
   "source": [
    "### Dash practice"
   ]
  },
  {
   "cell_type": "code",
   "execution_count": 5,
   "metadata": {},
   "outputs": [],
   "source": [
    "from package.routes import customer_orders_trace"
   ]
  },
  {
   "cell_type": "code",
   "execution_count": null,
   "metadata": {
    "scrolled": true
   },
   "outputs": [],
   "source": [
    "from package.plotly import trace_values"
   ]
  },
  {
   "cell_type": "code",
   "execution_count": 7,
   "metadata": {},
   "outputs": [
    {
     "name": "stdout",
     "output_type": "stream",
     "text": [
      "2018-07-17 13:45:59,591 INFO sqlalchemy.engine.base.Engine SELECT customers.id AS customers_id, customers.name AS customers_name, customers.hometown AS customers_hometown, customers.birthyear AS customers_birthyear \n",
      "FROM customers\n",
      "2018-07-17 13:45:59,594 INFO sqlalchemy.engine.base.Engine ()\n",
      "2018-07-17 13:45:59,601 INFO sqlalchemy.engine.base.Engine SELECT count(*) AS count_1 \n",
      "FROM (SELECT orders.id AS orders_id, orders.customer_id AS orders_customer_id, orders.bartender_id AS orders_bartender_id, orders.drink_id AS orders_drink_id \n",
      "FROM orders \n",
      "WHERE ? = orders.customer_id) AS anon_1\n",
      "2018-07-17 13:45:59,602 INFO sqlalchemy.engine.base.Engine (1,)\n",
      "2018-07-17 13:45:59,611 INFO sqlalchemy.engine.base.Engine SELECT count(*) AS count_1 \n",
      "FROM (SELECT orders.id AS orders_id, orders.customer_id AS orders_customer_id, orders.bartender_id AS orders_bartender_id, orders.drink_id AS orders_drink_id \n",
      "FROM orders \n",
      "WHERE ? = orders.customer_id) AS anon_1\n",
      "2018-07-17 13:45:59,613 INFO sqlalchemy.engine.base.Engine (2,)\n",
      "2018-07-17 13:45:59,620 INFO sqlalchemy.engine.base.Engine SELECT count(*) AS count_1 \n",
      "FROM (SELECT orders.id AS orders_id, orders.customer_id AS orders_customer_id, orders.bartender_id AS orders_bartender_id, orders.drink_id AS orders_drink_id \n",
      "FROM orders \n",
      "WHERE ? = orders.customer_id) AS anon_1\n",
      "2018-07-17 13:45:59,621 INFO sqlalchemy.engine.base.Engine (3,)\n"
     ]
    }
   ],
   "source": [
    "trace = customer_orders_trace()"
   ]
  },
  {
   "cell_type": "code",
   "execution_count": 8,
   "metadata": {},
   "outputs": [
    {
     "data": {
      "text/plain": [
       "{'name': 'data',\n",
       " 'text': [],\n",
       " 'type': 'bar',\n",
       " 'x': ['bart simpson', 'maggie simpson', 'lisa'],\n",
       " 'y': [7, 8, 4]}"
      ]
     },
     "execution_count": 8,
     "metadata": {},
     "output_type": "execute_result"
    }
   ],
   "source": [
    "trace"
   ]
  },
  {
   "cell_type": "code",
   "execution_count": 9,
   "metadata": {},
   "outputs": [
    {
     "data": {
      "text/html": [
       "<script>requirejs.config({paths: { 'plotly': ['https://cdn.plot.ly/plotly-latest.min']},});if(!window.Plotly) {{require(['plotly'],function(plotly) {window.Plotly=plotly;});}}</script>"
      ],
      "text/vnd.plotly.v1+html": [
       "<script>requirejs.config({paths: { 'plotly': ['https://cdn.plot.ly/plotly-latest.min']},});if(!window.Plotly) {{require(['plotly'],function(plotly) {window.Plotly=plotly;});}}</script>"
      ]
     },
     "metadata": {},
     "output_type": "display_data"
    },
    {
     "data": {
      "application/vnd.plotly.v1+json": {
       "data": [
        {
         "name": "data",
         "text": [],
         "type": "bar",
         "uid": "5091a064-89e9-11e8-a010-a4d18ccc1f8a",
         "x": [
          "bart simpson",
          "maggie simpson",
          "lisa"
         ],
         "y": [
          7,
          8,
          4
         ]
        }
       ],
       "layout": {}
      },
      "text/html": [
       "<div id=\"712ae1b8-d6dc-4cf4-ac83-07aed2ef6569\" style=\"height: 525px; width: 100%;\" class=\"plotly-graph-div\"></div><script type=\"text/javascript\">require([\"plotly\"], function(Plotly) { window.PLOTLYENV=window.PLOTLYENV || {};window.PLOTLYENV.BASE_URL=\"https://plot.ly\";Plotly.newPlot(\"712ae1b8-d6dc-4cf4-ac83-07aed2ef6569\", [{\"name\": \"data\", \"x\": [\"bart simpson\", \"maggie simpson\", \"lisa\"], \"text\": [], \"uid\": \"52370eba-89e9-11e8-8713-a4d18ccc1f8a\", \"type\": \"bar\", \"y\": [7, 8, 4]}], {}, {\"linkText\": \"Export to plot.ly\", \"showLink\": true})});</script>"
      ],
      "text/vnd.plotly.v1+html": [
       "<div id=\"712ae1b8-d6dc-4cf4-ac83-07aed2ef6569\" style=\"height: 525px; width: 100%;\" class=\"plotly-graph-div\"></div><script type=\"text/javascript\">require([\"plotly\"], function(Plotly) { window.PLOTLYENV=window.PLOTLYENV || {};window.PLOTLYENV.BASE_URL=\"https://plot.ly\";Plotly.newPlot(\"712ae1b8-d6dc-4cf4-ac83-07aed2ef6569\", [{\"name\": \"data\", \"x\": [\"bart simpson\", \"maggie simpson\", \"lisa\"], \"text\": [], \"uid\": \"52370eba-89e9-11e8-8713-a4d18ccc1f8a\", \"type\": \"bar\", \"y\": [7, 8, 4]}], {}, {\"linkText\": \"Export to plot.ly\", \"showLink\": true})});</script>"
      ]
     },
     "metadata": {},
     "output_type": "display_data"
    }
   ],
   "source": [
    "import plotly\n",
    "\n",
    "plotly.offline.init_notebook_mode(connected=True)\n",
    "\n",
    "plotly.offline.iplot([trace])"
   ]
  }
 ],
 "metadata": {
  "kernelspec": {
   "display_name": "Python 3",
   "language": "python",
   "name": "python3"
  },
  "language_info": {
   "codemirror_mode": {
    "name": "ipython",
    "version": 3
   },
   "file_extension": ".py",
   "mimetype": "text/x-python",
   "name": "python",
   "nbconvert_exporter": "python",
   "pygments_lexer": "ipython3",
   "version": "3.5.5"
  }
 },
 "nbformat": 4,
 "nbformat_minor": 2
}
