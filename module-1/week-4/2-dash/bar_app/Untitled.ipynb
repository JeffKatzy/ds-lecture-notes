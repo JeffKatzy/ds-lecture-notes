{
 "cells": [
  {
   "cell_type": "code",
   "execution_count": null,
   "metadata": {},
   "outputs": [],
   "source": [
    "import dash\n",
    "import dash_core_components as dcc\n",
    "import dash_html_components as html\n",
    "\n",
    "app = dash.Dash()\n",
    "app.layout = html.Div(children=[\n",
    "    html.H1('hello world'),\n",
    "    dcc.Graph(\n",
    "        id = 'whatever',\n",
    "        figure = {\n",
    "            'data': [],\n",
    "            'layout': {\n",
    "                'title': 'something here'\n",
    "            }\n",
    "        }),\n",
    "    dcc.Graph(\n",
    "        id = 'ok',\n",
    "        figure = {\n",
    "            'data': [],\n",
    "            'layout': {\n",
    "                'title': 'something else'\n",
    "            }\n",
    "        }\n",
    "    )\n",
    "])\n",
    "\n",
    "app.run_server(debug=True)\n"
   ]
  }
 ],
 "metadata": {
  "kernelspec": {
   "display_name": "Python 3",
   "language": "python",
   "name": "python3"
  },
  "language_info": {
   "codemirror_mode": {
    "name": "ipython",
    "version": 3
   },
   "file_extension": ".py",
   "mimetype": "text/x-python",
   "name": "python",
   "nbconvert_exporter": "python",
   "pygments_lexer": "ipython3",
   "version": "3.5.5"
  }
 },
 "nbformat": 4,
 "nbformat_minor": 2
}
