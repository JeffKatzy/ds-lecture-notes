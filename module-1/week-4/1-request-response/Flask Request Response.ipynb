{
 "cells": [
  {
   "cell_type": "code",
   "execution_count": 1,
   "metadata": {},
   "outputs": [],
   "source": [
    "from flask import Flask, request\n",
    "from flask_sqlalchemy import SQLAlchemy\n",
    "import pdb\n",
    "import json\n",
    "\n",
    "\n",
    "app = Flask(__name__)\n",
    "app.config['SQLALCHEMY_DATABASE_URI'] = 'sqlite:///users.db'\n",
    "app.config['SQLALCHEMY_TRACK_MODIFICATIONS'] = False\n",
    "app.config['SQLALCHEMY_ECHO'] = True\n",
    "db = SQLAlchemy()\n",
    "\n",
    "\n",
    "class User(db.Model):\n",
    "    id = db.Column(db.Integer, primary_key=True)\n",
    "    username = db.Column(db.String(64), index=True, unique=True)\n",
    "    email = db.Column(db.String(120), index=True, unique=True)\n",
    "    password_hash = db.Column(db.String(128))\n",
    "\n",
    "    def __repr__(self):\n",
    "        return '<User {}>'.format(self.username)\n",
    "\n",
    "\n",
    "db.init_app(app)\n",
    "@app.route('/')\n",
    "def index():\n",
    "    # response = app.make_response(('whatever', 204))\n",
    "    r = json.dumps({'foo': 'bar'})\n",
    "    return r, 200, {'content-type': 'application/json'}\n",
    "\n",
    "def show(name):\n",
    "    return\n",
    "\n",
    "# app.add_url_rule('/', 'index', index)\n",
    "\n",
    "# app.run(debug=True)\n",
    "# what's impo\n"
   ]
  },
  {
   "cell_type": "code",
   "execution_count": null,
   "metadata": {},
   "outputs": [],
   "source": []
  }
 ],
 "metadata": {
  "kernelspec": {
   "display_name": "Python 3",
   "language": "python",
   "name": "python3"
  },
  "language_info": {
   "codemirror_mode": {
    "name": "ipython",
    "version": 3
   },
   "file_extension": ".py",
   "mimetype": "text/x-python",
   "name": "python",
   "nbconvert_exporter": "python",
   "pygments_lexer": "ipython3",
   "version": "3.5.5"
  }
 },
 "nbformat": 4,
 "nbformat_minor": 2
}
