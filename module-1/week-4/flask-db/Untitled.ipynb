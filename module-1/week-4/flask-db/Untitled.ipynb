{
 "cells": [
  {
   "cell_type": "code",
   "execution_count": null,
   "metadata": {},
   "outputs": [],
   "source": [
    "from flask import Flask, request, render_template\n",
    "from flask_sqlalchemy import SQLAlchemy\n",
    "import pdb\n",
    "from flask_migrate import Migrate\n",
    "# print(__name__)\n",
    "\n",
    "app = Flask(__name__)\n",
    "app.config['SQLALCHEMY_DATABASE_URI'] = 'sqlite:///espn.db'\n",
    "app.config['SQLALCHEMY_TRACK_MODIFICATIONS'] = False\n",
    "app.config['SQLALCHEMY_ECHO'] = True\n",
    "\n",
    "db = SQLAlchemy(app)\n",
    "migrate = Migrate(app, db)\n",
    "\n",
    "class Team(db.Model):\n",
    "    __tablename__ = 'teams'\n",
    "    id = db.Column(db.Integer, primary_key=True)\n",
    "    name = db.Column(db.String(100), unique=True)\n",
    "    city = db.Column(db.String(100), unique=True)\n",
    "\n",
    "@app.route('/nba/teams')\n",
    "def index():\n",
    "    teams = Team.query.all()\n",
    "    return render_template('index.html', teams = teams)\n",
    "\n",
    "@app.route('/nba/teams/<id>')\n",
    "def show(id):\n",
    "    team = Team.query.get(id)\n",
    "    return render_template('show.html', team_name=team.name)\n",
    "\n",
    "\n",
    "# flask db init\n",
    "# flask db migrate -m \"users table\"\n",
    "#\n",
    "\n",
    "# if __name__ == '__main__':\n",
    "#     app.run(debug=True)\n"
   ]
  }
 ],
 "metadata": {
  "kernelspec": {
   "display_name": "Python 3",
   "language": "python",
   "name": "python3"
  },
  "language_info": {
   "codemirror_mode": {
    "name": "ipython",
    "version": 3
   },
   "file_extension": ".py",
   "mimetype": "text/x-python",
   "name": "python",
   "nbconvert_exporter": "python",
   "pygments_lexer": "ipython3",
   "version": "3.5.5"
  }
 },
 "nbformat": 4,
 "nbformat_minor": 2
}
