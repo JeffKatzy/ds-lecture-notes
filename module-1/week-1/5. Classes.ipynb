{
 "cells": [
  {
   "cell_type": "markdown",
   "metadata": {},
   "source": [
    "Attribute - is any name following a dot\n",
    "References to names in modules are attribute references \n",
    "So modname.funcname, funcname is an attribute of modname\n",
    "\n",
    "Writable attributes can also be deleted with the del statement "
   ]
  },
  {
   "cell_type": "markdown",
   "metadata": {},
   "source": [
    "### Scope"
   ]
  },
  {
   "cell_type": "markdown",
   "metadata": {},
   "source": [
    "the innermost scope, which is searched first, contains the local names\n",
    "the scopes of any enclosing functions, which are searched starting with the nearest enclosing scope, contains non-local, but also non-global names\n",
    "the next-to-last scope contains the current module’s global names\n",
    "the outermost scope (searched last) is the namespace containing built-in names"
   ]
  },
  {
   "cell_type": "markdown",
   "metadata": {},
   "source": [
    "When a class definition is entered, a new namespace is created and used as local scope\n",
    "\n"
   ]
  },
  {
   "cell_type": "markdown",
   "metadata": {},
   "source": [
    "### Class objects\n",
    "\n",
    "Class objects support two operations: \n",
    "\n",
    "1. Attribute references\n",
    "2. instantiation\n",
    "\n",
    "Calling a class object, creates an empty object.  \n",
    "Many classes like to create objects with instances, so a class may define a special methdo named init."
   ]
  },
  {
   "cell_type": "markdown",
   "metadata": {},
   "source": [
    "### Instance objects\n",
    "\n",
    "The only operations understood by instance objects are attribute references \n",
    "1. data attributes \n",
    " -> these spring into existence when they are first assigned \n",
    "2. methods \n",
    " -> method - a function that belongs to an object\n",
    " "
   ]
  },
  {
   "cell_type": "code",
   "execution_count": null,
   "metadata": {},
   "outputs": [],
   "source": []
  }
 ],
 "metadata": {
  "kernelspec": {
   "display_name": "Python 3",
   "language": "python",
   "name": "python3"
  },
  "language_info": {
   "codemirror_mode": {
    "name": "ipython",
    "version": 3
   },
   "file_extension": ".py",
   "mimetype": "text/x-python",
   "name": "python",
   "nbconvert_exporter": "python",
   "pygments_lexer": "ipython3",
   "version": "3.5.5"
  }
 },
 "nbformat": 4,
 "nbformat_minor": 2
}
