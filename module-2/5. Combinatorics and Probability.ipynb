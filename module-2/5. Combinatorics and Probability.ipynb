{
 "cells": [
  {
   "cell_type": "markdown",
   "metadata": {},
   "source": [
    "# Combinatorics and Probability"
   ]
  },
  {
   "cell_type": "markdown",
   "metadata": {},
   "source": [
    "### Problem \n",
    "\n",
    "What is the probability of getting three 3 of 8 heads?"
   ]
  },
  {
   "cell_type": "markdown",
   "metadata": {},
   "source": [
    "#### First Technique \n",
    "\n",
    "$\\frac{relevant outcomes}{total outcomes}$\n",
    "\n",
    "A. Calculate outcomes we care about \n",
    "\n",
    "* How many different ways of 8 can we choose 3 to be successful.  \n",
    "    > 8 choose 3 to be successful.  And then have 8!/3!5!\n",
    "\n",
    "B. Calculate number of outcomes\n",
    "\n",
    "> Total number of outcomes is 2^8\n",
    "\n",
    "C. Divide the two of these\n",
    "\n",
    "> 7/32 = 0.21875"
   ]
  },
  {
   "cell_type": "markdown",
   "metadata": {},
   "source": [
    "General rule for coin flip problem: \n",
    "* Total outcomes we care about:  $n!/k!(n - k)!$\n",
    "* Total number of outcomes:  $2^n$\n",
    "\n",
    "And note for a three sided coin would be 3^n."
   ]
  },
  {
   "cell_type": "markdown",
   "metadata": {},
   "source": [
    "#### Note that we can often calculate probability assuming ordered or unordered\n",
    "\n",
    "* See [Chris on twinkies and ding dongs](https://www.youtube.com/watch?v=oYXYLljkC48&list=PLcmJYc2muOR9H96hGlUBV2DkviVZFmHAh&index=2)"
   ]
  },
  {
   "cell_type": "markdown",
   "metadata": {},
   "source": [
    "### Different technique\n",
    "1. Probability of one success occurring \n",
    "    * What is the probability that a specific occurrence of  \n",
    "    Eg. $(s)(s)(s)(f)(f)(f)(f)(f)$\n",
    "2. Number of different successes\n",
    "    * How many different ways of 8 can we choose 3 to be successful.  \n",
    "3. Multiply these two\n",
    "    * Because each of these outcomes is disjoint, we add can add the probability of the number of disjoint outcomes."
   ]
  },
  {
   "cell_type": "markdown",
   "metadata": {},
   "source": [
    "B. Application\n",
    "\n",
    "1. Probability of distinct outcome occurring\n",
    "(.5)(.5)(.5)*(.5)(.5)(.5)(.5)(.5)"
   ]
  },
  {
   "cell_type": "code",
   "execution_count": 11,
   "metadata": {
    "scrolled": true
   },
   "outputs": [
    {
     "data": {
      "text/plain": [
       "0.00390625"
      ]
     },
     "execution_count": 11,
     "metadata": {},
     "output_type": "execute_result"
    }
   ],
   "source": [
    ".5**8"
   ]
  },
  {
   "cell_type": "markdown",
   "metadata": {},
   "source": [
    "2. Number of ways it can occur"
   ]
  },
  {
   "cell_type": "code",
   "execution_count": 12,
   "metadata": {},
   "outputs": [
    {
     "data": {
      "text/plain": [
       "56.0"
      ]
     },
     "execution_count": 12,
     "metadata": {},
     "output_type": "execute_result"
    }
   ],
   "source": [
    "import math\n",
    "math.factorial(8)\n",
    "\n",
    "math.factorial(5)\n",
    "\n",
    "40320/720"
   ]
  },
  {
   "cell_type": "markdown",
   "metadata": {},
   "source": [
    "3. Multiply number of ways times by probability of each"
   ]
  },
  {
   "cell_type": "code",
   "execution_count": 9,
   "metadata": {},
   "outputs": [
    {
     "data": {
      "text/plain": [
       "0.21875"
      ]
     },
     "execution_count": 9,
     "metadata": {},
     "output_type": "execute_result"
    }
   ],
   "source": [
    "56.0*0.00390625"
   ]
  },
  {
   "cell_type": "markdown",
   "metadata": {},
   "source": [
    "Notice that we get the same both ways."
   ]
  },
  {
   "cell_type": "markdown",
   "metadata": {},
   "source": [
    "### Now can move onto unequal probabilities \n",
    "\n"
   ]
  },
  {
   "cell_type": "markdown",
   "metadata": {},
   "source": [
    "Imagine that there is a .40 percent chance of success.  Now let's calculate the likelihood of 3 successes using this second tehcnique.  "
   ]
  },
  {
   "cell_type": "markdown",
   "metadata": {},
   "source": [
    "When you have distinct elements, more likely than not, you end up in an **equally likely situation** \n",
    "\n",
    "When you have indistinct elements, more likely than not have a **nonequally likely** situation\n",
    "\n"
   ]
  },
  {
   "cell_type": "code",
   "execution_count": null,
   "metadata": {},
   "outputs": [],
   "source": []
  }
 ],
 "metadata": {
  "kernelspec": {
   "display_name": "Python 3",
   "language": "python",
   "name": "python3"
  },
  "language_info": {
   "codemirror_mode": {
    "name": "ipython",
    "version": 3
   },
   "file_extension": ".py",
   "mimetype": "text/x-python",
   "name": "python",
   "nbconvert_exporter": "python",
   "pygments_lexer": "ipython3",
   "version": "3.5.5"
  }
 },
 "nbformat": 4,
 "nbformat_minor": 2
}
