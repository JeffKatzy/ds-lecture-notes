{
 "cells": [
  {
   "cell_type": "markdown",
   "metadata": {},
   "source": [
    "### Content"
   ]
  },
  {
   "cell_type": "markdown",
   "metadata": {},
   "source": [
    "Often as a baseline, we may say that something has equal probability.  "
   ]
  },
  {
   "cell_type": "markdown",
   "metadata": {},
   "source": [
    "### Rules of counting\n",
    "\n",
    "##### Sum rule of counting\n",
    "\n",
    "Sum rule of counting is for mutually exclusive options.  Then just add up all of the options.\n",
    "\n",
    "Draw a tree diagram.\n",
    "\n",
    "Problem: \n",
    "> Person plans on joining Flatiron School  as a student and they can apply for positions either in the the web course or the data science course.  The sales dept has three positions open and the marketing dept has two positions open.  How many total positions are open? \n",
    "\n",
    "5 - the sum rule of counting.  The choice of one does affect the other.  \n",
    "**Sum rule of counting** If outcome can either be A or B, then the number of outcomes in an experiment is A + B.\n",
    "\n",
    "> A woman has decided to shop at one store today, either in the north part of town or the south part of town. If she visits the north part of town, she will shop at either a mall, a furniture store, or a jewelry store (3 ways). If she visits the south part of town then she will shop at either a clothing store or a shoe store (2 ways).\n",
    "Thus there are 3+2=5 possible shops the woman could end up shopping at today.\n",
    "\n",
    "> Pizza choices.  For example, choosing thin crust or thick crust, and then choosing white, vegetable or meat lovers.  There's six different ways of doing this.  \n",
    "\n",
    "\n",
    "B. Making a series of decisions\n",
    "\n",
    "##### Product rule of counting\n",
    "\n",
    "Product rule of counting is to see how many options when both a can occur and both b can occur. \n",
    "\n",
    "Flatiron school is trying to assess the probability someone joins a course.  As a first step it calculates the total number of courses.  Courses run as either fullstack or data science, and each course has a part-time, or full time or online.  (All courses have the same number of seats).  How many different courses are there?   \n",
    "\n",
    "Experiment has two outcomes, and first part results in m outcomes and second part can result n outcomes **regardless of the outcome of\n",
    "the first part**.  Then total number of outcomes is m*n.\n",
    "\n",
    "**The key part is that regardless of the first choice, we can still make the second choice**.  \n",
    "\n",
    "\n",
    "A. Permutations\n",
    "\n",
    "Playing the piano keys, but no repeats."
   ]
  },
  {
   "cell_type": "markdown",
   "metadata": {},
   "source": [
    "### B. Permutations and Combinations"
   ]
  },
  {
   "cell_type": "markdown",
   "metadata": {},
   "source": [
    "1. Permutations using all from a set\n",
    "\n",
    "> * Permutations really follows by the product rule, where regardless of the first choice you make there are the same number of ways to make the next choice.\n",
    "> * Note that if you draw the this out as a tree, then only count up the nodes at the last level (just like with the sum rule of counting and product rule).\n",
    "\n",
    "Now Flatiron school needs to assign some instructors for it's course. It has six courses and six instructors.  Any instructor can teach any course.  How many different ways can it match a course and instructor?\n",
    "\n",
    "6!\n",
    "\n",
    "2. Permutations with a subset \n",
    "\n",
    "Imagine there are ten employees all who can teach or code, there are the same six different teaching positions.  How many ways can 10 employees be assigned to the six positions.\n",
    "\n",
    "10!/4!\n",
    "\n",
    "Formula \n",
    "\n",
    "n_P_k = $ \\frac{n!}{(n - k)!} $\n",
    "\n"
   ]
  },
  {
   "cell_type": "markdown",
   "metadata": {},
   "source": [
    "> Tips\n",
    "> * Use slots\n",
    "> * Eg. for the Iphone example\n",
    "\n",
    "> 8 7 6 5 \n",
    "_\n",
    "_\n",
    "_\n",
    "_ \n",
    "\n",
    "> Examples\n",
    "> * Imagine each position has a ranking in our org chart.  How many different ways can our people be arranged.  Or could be a basketball team.\n",
    "> * Seating arrangements where we assign each seat a number.  \n",
    "> * Iphone has smudges over four digits on the screen.  So we know which ones were chosen."
   ]
  },
  {
   "cell_type": "markdown",
   "metadata": {},
   "source": [
    "### Combinations\n",
    "\n",
    "Now we have some people that have the same position.  \n",
    "\n",
    "So how do we think of that.  How many different positions are there now.  \n",
    "\n",
    "So key is to do the same with permutations, but then divide by the number that we think of the same thing.  \n",
    "\n",
    "n_C_k = $ \\frac{\\frac{n!}{(n - k)!}}{k!} = {\\frac{n!}{k!(n - k)!}} =  {n \\choose k}$\n",
    "\n",
    "So main point here is that when saying a combination, this where out of a set, choose a subset, and don't distinguish between the options.\n",
    "\n",
    "* Handshake problem\n",
    "\n",
    "Say there are four people, A, B, C, D.  And want each of them to shake hands with each other: \n",
    "\n",
    "$4 \\times 3$, as four people shake hands and then 3 people.  So in a world of four people, how many ways can you choose two.  Each of these ways of selecting two people should have a different combination in it.\n",
    "\n",
    "(Think about seating chart is it, 12 choose 4?)"
   ]
  },
  {
   "cell_type": "markdown",
   "metadata": {},
   "source": [
    "### Combinations"
   ]
  },
  {
   "cell_type": "markdown",
   "metadata": {},
   "source": [
    "So now instead of the person being left out who is all considered the same the people included are also considered the same.  \n",
    "\n",
    "$n!/r!(n-r)!$"
   ]
  },
  {
   "cell_type": "markdown",
   "metadata": {},
   "source": [
    "\n",
    ">*  Perhaps show each one of these with small numbers and trees (eg. just two officers and three employees).\n",
    "> * Main point is that in each one of these problems, we start from a concept that everything is ordered.  And then we consider everything that we don't care about\n",
    "> * Idea of trees comes from [Khan Academy way of explaining](https://www.khanacademy.org/math/precalculus/prob-comb/combinatorics-precalc/v/factorial-and-counting-seat-arrangements)\n",
    "\n",
    "> Having students create a seating chart and seeing all the possibilities of different tables, the probability that people will be seated at the "
   ]
  },
  {
   "cell_type": "markdown",
   "metadata": {},
   "source": [
    "### Now some are the same\n",
    "\n",
    "Multinomial rule \n",
    "\n",
    "-> Where have some repeated positions or groups\n",
    "\n",
    "For example, number of ways to rearrange the letters \"banana\":\n",
    "* (6 choose 1, 2, 3)\n",
    "\n",
    "For example, number of ways to rearrange the letters \"systems\":\n",
    "6 choose 3, 1, 1, 1, 1 .\n",
    "\n",
    "And 12 students in 3 tables is \n",
    "\n",
    "12!/(4!4!4!)3!\n",
    "\n",
    "The three factorial is because we think of the four groups as identical."
   ]
  },
  {
   "cell_type": "markdown",
   "metadata": {},
   "source": [
    "### Resources\n",
    "\n",
    "Counting \n",
    "https://web.stanford.edu/class/archive/cs/cs109/cs109.1166//pdfs/02%20Counting.pdf\n",
    "\n",
    "https://www.math.lsu.edu/~madden/M3355spr2011/Lecture-2.pdf\n",
    "\n",
    "https://www.youtube.com/watch?v=juGgfHsO-xM\n",
    "* Section on products, quotients and subspaces, to lead into permuatations?\n",
    "\n"
   ]
  }
 ],
 "metadata": {
  "kernelspec": {
   "display_name": "Python 3",
   "language": "python",
   "name": "python3"
  },
  "language_info": {
   "codemirror_mode": {
    "name": "ipython",
    "version": 3
   },
   "file_extension": ".py",
   "mimetype": "text/x-python",
   "name": "python",
   "nbconvert_exporter": "python",
   "pygments_lexer": "ipython3",
   "version": "3.5.5"
  }
 },
 "nbformat": 4,
 "nbformat_minor": 2
}
