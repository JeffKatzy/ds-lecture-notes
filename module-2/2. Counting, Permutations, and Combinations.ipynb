{
 "cells": [
  {
   "cell_type": "markdown",
   "metadata": {},
   "source": [
    "### Content"
   ]
  },
  {
   "cell_type": "markdown",
   "metadata": {},
   "source": [
    "### Rules of counting\n",
    "\n",
    "* Sum rule of counting\n",
    "\n",
    "If outcome can either be A or B, then the number of outcomes in an experiment is A + B.\n",
    "\n",
    "* Product rule of counting\n",
    "\n",
    "Experiment has two outcomes, and first part results in m outcomes and second part can result n outcomes regardless of the outcome of\n",
    "the first part.  Then total number of outcomes is m*n."
   ]
  },
  {
   "cell_type": "markdown",
   "metadata": {},
   "source": [
    "> Examples\n",
    "* Rolling two six sided dice -> 6*6 outcomes\n",
    "* Same as set multiplication"
   ]
  },
  {
   "cell_type": "markdown",
   "metadata": {},
   "source": [
    "From here can go from sets of outcomes, to now multiplying sets of outcomes.\n",
    "\n",
    "For example, probability that male or nonmale is promoted.  \n",
    "And set of millenial and non millenial"
   ]
  },
  {
   "cell_type": "markdown",
   "metadata": {},
   "source": [
    "### Permutations and Combinations"
   ]
  },
  {
   "cell_type": "markdown",
   "metadata": {},
   "source": [
    "> Why permutations:\n",
    "\n",
    "Oftentimes, want the ability to wrap our arms around a problem.  So that means can we try or consider all of different possibilities.  "
   ]
  },
  {
   "cell_type": "markdown",
   "metadata": {},
   "source": [
    "* Permutations\n",
    "\n"
   ]
  },
  {
   "cell_type": "markdown",
   "metadata": {},
   "source": [
    "Show this by making a tree of all of the different possibilities."
   ]
  },
  {
   "cell_type": "markdown",
   "metadata": {},
   "source": [
    "An ordered arrangement of n distinct objects.  The n objects can be ordered in n*(n-1) = n! ways."
   ]
  },
  {
   "cell_type": "markdown",
   "metadata": {},
   "source": [
    "> Tips\n",
    "> * Use slots\n",
    "> * Eg. for the Iphone example\n",
    "\n",
    "> 8 7 6 5 \n",
    "_\n",
    "_\n",
    "_\n",
    "_ \n",
    "\n",
    "> Examples\n",
    "> * Imagine each position has a ranking in our org chart.  How many different ways can our people be arranged.  Or could be a basketball team.\n",
    "> * Seating arrangements where we assign each seat a number.  \n",
    "> * Iphone has smudges over four digits on the screen.  So we know which ones were chosen."
   ]
  },
  {
   "cell_type": "markdown",
   "metadata": {},
   "source": [
    "### Permutations with indistinct objects\n",
    "\n",
    "Now we have some people that have the same position.  \n",
    "\n",
    "So how do we think of that.  How many different positions are there now.  "
   ]
  },
  {
   "cell_type": "markdown",
   "metadata": {},
   "source": [
    "* Hint: Think of this as position one and position two.  Then go from there.\n",
    "\n",
    "> Eg. \n",
    "> * Or with some people having the same positions\n",
    "> * Or only three smudges with our iphone"
   ]
  },
  {
   "cell_type": "markdown",
   "metadata": {},
   "source": [
    "And then have five people for three different positions.  So again order matters but two of the positions really the same.  \n",
    "\n",
    "``` text\n",
    "M, J B\n",
    "\n",
    "_ _  _\n",
    "P VP S\n",
    "\n",
    "3*2*1\n",
    "\n",
    "M, J, B, F\n",
    "\n",
    "_ _  _\n",
    "P VP S\n",
    "\n",
    "```"
   ]
  },
  {
   "cell_type": "markdown",
   "metadata": {},
   "source": [
    "Formula for this is:\n",
    "n!/(n - r)!"
   ]
  },
  {
   "cell_type": "markdown",
   "metadata": {},
   "source": [
    "### Combinations"
   ]
  },
  {
   "cell_type": "markdown",
   "metadata": {},
   "source": [
    "So now instead of the person being left out who is all considered the same the people included are also considered the same.  \n",
    "\n",
    "$n!/r!(n-r)!$"
   ]
  },
  {
   "cell_type": "markdown",
   "metadata": {},
   "source": [
    "\n",
    ">*  Perhaps show each one of these with small numbers and trees (eg. just two officers and three employees).\n",
    "> * Main point is that in each one of these problems, we start from a concept that everything is ordered.  And then we consider everything that we don't care about\n",
    "> * Idea of trees comes from [Khan Academy way of explaining](https://www.khanacademy.org/math/precalculus/prob-comb/combinatorics-precalc/v/factorial-and-counting-seat-arrangements)\n",
    "\n",
    "> Having students create a seating chart and seeing all the possibilities of different tables, the probability that people will be seated at the "
   ]
  },
  {
   "cell_type": "markdown",
   "metadata": {},
   "source": [
    "### Resources\n",
    "\n",
    "Counting \n",
    "https://web.stanford.edu/class/archive/cs/cs109/cs109.1166//pdfs/02%20Counting.pdf\n",
    "\n",
    "https://www.math.lsu.edu/~madden/M3355spr2011/Lecture-2.pdf\n",
    "* Section on products, quotients and subspaces, to lead into permuatations?\n",
    "\n"
   ]
  }
 ],
 "metadata": {
  "kernelspec": {
   "display_name": "Python 3",
   "language": "python",
   "name": "python3"
  },
  "language_info": {
   "codemirror_mode": {
    "name": "ipython",
    "version": 3
   },
   "file_extension": ".py",
   "mimetype": "text/x-python",
   "name": "python",
   "nbconvert_exporter": "python",
   "pygments_lexer": "ipython3",
   "version": "3.5.5"
  }
 },
 "nbformat": 4,
 "nbformat_minor": 2
}
