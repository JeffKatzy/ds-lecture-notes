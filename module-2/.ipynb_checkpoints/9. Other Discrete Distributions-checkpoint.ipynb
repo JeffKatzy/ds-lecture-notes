{
 "cells": [
  {
   "cell_type": "markdown",
   "metadata": {},
   "source": [
    "### Random Variables\n",
    "\n",
    "So random variables are a parameterization of things that occur often in nature, or in mathematics.  \n",
    "\n"
   ]
  },
  {
   "cell_type": "markdown",
   "metadata": {},
   "source": [
    "### Poisson\n",
    "\n",
    "So then the probability of something corrupted is smaller, because it doesn't have to go through all of space.  So we get $Bin(10^4, 10^-6)$, (so n is really large and probability is really small).  The problem is that these become unwieldy.  \n",
    "\n",
    "$ P(X = i) = \\frac{n!}{i!(n - i)!}p^i(1-p)^{n - i}$ \n",
    "\n",
    "Applications:\n",
    "1. Number of visitors to a popular website, and number of errors\n",
    "2. \n",
    "\n",
    "If n is sufficiently large and p is sufficiently small, you don't have to parameterize it by n and p anymore.  Instead we parameterize it by lambda, which is what we define to be $n*p$.  \n",
    "\n",
    "So now all that matters is how n is related to p, the ratio.  \n",
    "\n",
    "> Example so if send a bit of length n = 10^4, and p = 10^-6, then X ~ Poi(n * p ) = Poi(.01). \n",
    "\n",
    "\n",
    "**Awesome example** \n",
    "So if X varies as a Poisson, and X varies with the data of 8.5, then what is the probability of there being 15 hurricanes in a year.\n",
    "\n",
    "So then probability of there being 15 in a year, and then can ask what is the probability of this happening.  Assuming that the Poisson stays the same.  So the probability of two of these happening is 2 in one billion.  So then data since 1966 looks like it is going up over time.  \n",
    "\n",
    "> See chris piech exploreHurricanes.py"
   ]
  },
  {
   "cell_type": "code",
   "execution_count": null,
   "metadata": {},
   "outputs": [],
   "source": []
  }
 ],
 "metadata": {
  "kernelspec": {
   "display_name": "Python 3",
   "language": "python",
   "name": "python3"
  },
  "language_info": {
   "codemirror_mode": {
    "name": "ipython",
    "version": 3
   },
   "file_extension": ".py",
   "mimetype": "text/x-python",
   "name": "python",
   "nbconvert_exporter": "python",
   "pygments_lexer": "ipython3",
   "version": "3.5.5"
  }
 },
 "nbformat": 4,
 "nbformat_minor": 2
}
