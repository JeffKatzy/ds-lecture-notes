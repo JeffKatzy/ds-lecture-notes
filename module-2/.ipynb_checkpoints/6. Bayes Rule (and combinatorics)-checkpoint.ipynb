{
 "cells": [
  {
   "cell_type": "markdown",
   "metadata": {},
   "source": [
    "1. Bayes Rule"
   ]
  },
  {
   "cell_type": "markdown",
   "metadata": {},
   "source": [
    "If have a sample space S and two events E and F.  \n",
    "\n",
    "Can think of E as two parts\n",
    "\n",
    "1. Most common form \n",
    "\n",
    "P(F | E) = P(EF)/P(E) = P(E|F)P(F)/P(E)\n",
    "* via chain rule\n",
    "\n",
    "\n",
    "2. Then\n",
    "\n",
    "1. E and F - that intersection.  \n",
    "2. E, but not F.\n",
    "\n",
    "P(E) = P(E & F) + P(E & $F^c$)\n",
    "\n",
    " = P(E) = P(E|F)P(F) + P(E|$F^c$)P(F$^c$)\n",
    "\n",
    "3. So can also write Bayes as \n",
    "$\\frac{P(E|F)P(F)}{P(E|F)P(F) + P(E|$F^c)P(F^c)}$"
   ]
  },
  {
   "cell_type": "markdown",
   "metadata": {},
   "source": [
    "4. HIV testing example See video at [1 hour mark](https://www.youtube.com/watch?v=wB0z0nQebNc&index=3&list=PLcmJYc2muOR9H96hGlUBV2DkviVZFmHAh)\n",
    "\n",
    "Example that you have HIV given that you test positive.  This is what you want to know, but very hard to know. \n",
    "\n",
    "E = test positive for HIV with test\n",
    "F = you have hiv \n",
    "\n",
    "$P(F|E) = \\frac{P(F)P(E|F)}{P(E|F)P(F) + P(E|F^c)P(F^c)} $\n",
    "\n",
    "* So the numerator is the probability of a true positive.\n",
    "* And the denominator is the probability of the event of testing positive.\n",
    "* Becuase many people don't have hiv and 1% false positive.  The event of testing positive is still kinda large to a true positive.  \n",
    "So P(F|E) = .330\n",
    "\n",
    "> You can practically, showing by multiplying this out, and showing what this happens for 1k people.\n",
    "\n",
    "> Also can ask to calculate the probability of having the disease given you test negatively (which is quite small)"
   ]
  },
  {
   "cell_type": "markdown",
   "metadata": {},
   "source": [
    "3. Bayes rule with spam\n",
    "\n",
    "So simple spam detection \n",
    "60% of all email is spam, with 90% of spam having a forged header\n",
    "And 20% of non spam having a forged header\n",
    "\n",
    "So what's probability of really the case, given the evidence.  "
   ]
  },
  {
   "cell_type": "markdown",
   "metadata": {},
   "source": [
    "[you got to here](https://www.youtube.com/watch?v=wB0z0nQebNc&index=3&list=PLcmJYc2muOR9H96hGlUBV2DkviVZFmHAh)"
   ]
  },
  {
   "cell_type": "markdown",
   "metadata": {},
   "source": [
    "2. Bayes Rule and Combinatorics"
   ]
  },
  {
   "cell_type": "markdown",
   "metadata": {},
   "source": [
    "Khan Academy Problem of given that we pulled out a red marble, what is the probability of picking the correct bag."
   ]
  },
  {
   "cell_type": "markdown",
   "metadata": {},
   "source": [
    "### Resources\n",
    "\n",
    "https://www.math.lsu.edu/~madden/M3355spr2011/Lecture-6.pdf\n",
    "\n"
   ]
  },
  {
   "cell_type": "code",
   "execution_count": null,
   "metadata": {},
   "outputs": [],
   "source": []
  }
 ],
 "metadata": {
  "kernelspec": {
   "display_name": "Python 3",
   "language": "python",
   "name": "python3"
  },
  "language_info": {
   "codemirror_mode": {
    "name": "ipython",
    "version": 3
   },
   "file_extension": ".py",
   "mimetype": "text/x-python",
   "name": "python",
   "nbconvert_exporter": "python",
   "pygments_lexer": "ipython3",
   "version": "3.5.5"
  }
 },
 "nbformat": 4,
 "nbformat_minor": 2
}
