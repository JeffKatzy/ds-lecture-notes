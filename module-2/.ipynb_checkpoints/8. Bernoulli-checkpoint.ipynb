{
 "cells": [
  {
   "cell_type": "markdown",
   "metadata": {},
   "source": [
    "### Bernoulli RV"
   ]
  },
  {
   "cell_type": "markdown",
   "metadata": {},
   "source": [
    "X ~ $Ber(p)$\n",
    "\n",
    "Can be 1 or 0"
   ]
  },
  {
   "cell_type": "markdown",
   "metadata": {},
   "source": [
    "### Binomial\n",
    "\n",
    "This is how many successes can you get from n trials of a bernoulli \n",
    "So bernoulli is one indicator variable, and binomial is a sum of a bunch of bernoullis \n",
    "\n",
    "X ~ $ Bin(n, p) $\n",
    "\n",
    "Here you tell it how many trials you ran, and the probability of success of each trial.  Binomial tells you the probability of getting a number of successes.\n",
    "\n",
    "And we can calculate the probability that a particular binomial takes on a particular value.  $p(i) = {n \\choose i}p^i*(1-p)^{n - i} $\n",
    "\n",
    "Properties of binomial:\n",
    "\n",
    "* Variance of a binomial is $np(1 - p)$\n",
    "* $E[x] = np$\n",
    "* Ber(p) = Bin(1, p)\n",
    "\n",
    "Applications: \n",
    "\n",
    "* The # of heads in n coin flips \n",
    "* The number of disk drive crashes in a computer cluster\n",
    "\n",
    "* Review: The bernoulli is a type of random variable, and a binomial is the sum of outcomes of a bernoulli"
   ]
  },
  {
   "cell_type": "markdown",
   "metadata": {},
   "source": [
    "1. Example - Error correcting codes: \n",
    "Each bit is independently corrupted.  So flipped with the probability of .1.  \n",
    "\n",
    "So it's the one that is the intersection of the odd sets and the complement of the even.  \n",
    "\n",
    "> Hamming error correction code, [see here](https://www.youtube.com/watch?v=tgTj6fwbmj8&index=5&list=PLcmJYc2muOR9H96hGlUBV2DkviVZFmHAh)\n",
    "\n",
    "So now how much did we improve this by?\n",
    "\n",
    "Well the probability that one bit gets corrupted is.  And then what's the probability that two bits are corrupted? \n",
    "> So it's the probability of 1 or 0 of 8 bits being corrupted. And old way is probability of 1 bit being corrupted of four."
   ]
  },
  {
   "cell_type": "markdown",
   "metadata": {},
   "source": [
    "2. Example with Genes\n",
    "\n",
    "Child has brown eyes if either or both are B.  Only if bb does he get blue eyes.  So now both mom and dad are Bb, Bb.  There are four children.  What is the probability three have brown eyes.\n",
    "\n",
    "$ P(X = blue) = .25$\n",
    "$ P(X = brown) = .75$\n",
    "\n",
    "So then ${4 \\choose 3}.75^3*.25^1$\n",
    "\n",
    "3. Can think of klinko\n",
    "\n",
    "What is the probability that it goes right?\n",
    "So then a bucket you wind up in is Bin(# levels, .5).  So now we can calculate the probability of different buckets.  \n",
    "\n",
    "4. A sales funnel\n",
    "\n",
    "Perhaps this is a binomial. "
   ]
  },
  {
   "cell_type": "markdown",
   "metadata": {},
   "source": [
    "### Debugging intuition"
   ]
  },
  {
   "cell_type": "markdown",
   "metadata": {},
   "source": [
    "P(X > k )  = what is the probability that x is greater than or equal to some number k.  \n",
    "\n",
    "So we may think (**wrongly**)that it's ${n \\choose k}p^k$\n",
    "\n",
    "So we may not care about the other things.  \n",
    "\n",
    "Now debug this: \n",
    "\n",
    "1. Think about p = 1.  So then we get a total probability bigger than 1.  That is a huge red flag (bc all probabilities have to be between 0 and 1).  \n",
    "\n",
    "2. Of course, we also need the probability of the not successes.  \n",
    "\n",
    "The reason why we are able to add these, is because we are treating."
   ]
  }
 ],
 "metadata": {
  "kernelspec": {
   "display_name": "Python 3",
   "language": "python",
   "name": "python3"
  },
  "language_info": {
   "codemirror_mode": {
    "name": "ipython",
    "version": 3
   },
   "file_extension": ".py",
   "mimetype": "text/x-python",
   "name": "python",
   "nbconvert_exporter": "python",
   "pygments_lexer": "ipython3",
   "version": "3.5.5"
  }
 },
 "nbformat": 4,
 "nbformat_minor": 2
}
