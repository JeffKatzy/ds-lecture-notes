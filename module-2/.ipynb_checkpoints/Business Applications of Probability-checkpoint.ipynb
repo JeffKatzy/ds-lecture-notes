{
 "cells": [
  {
   "attachments": {},
   "cell_type": "markdown",
   "metadata": {},
   "source": [
    "1. Told that an employment rate of .05.  Now survey five people and told they're all unemployed.  What's the probability of this occurring? (.36)\n",
    "\n",
    "> Note also can think of expected value, as well we get survey people from different regions of new york, but then need to weight them by proportion of people in nyc.\n",
    "\n",
    "2. Person does arbitrage, but then there's wild swings in the market 1% of time.  He works on 100 transactions.  What's the probability that there is a wild swing at least once?  (1 - .99^100) = .63\n",
    "\n"
   ]
  },
  {
   "cell_type": "code",
   "execution_count": null,
   "metadata": {},
   "outputs": [],
   "source": []
  }
 ],
 "metadata": {
  "kernelspec": {
   "display_name": "Python 3",
   "language": "python",
   "name": "python3"
  },
  "language_info": {
   "codemirror_mode": {
    "name": "ipython",
    "version": 3
   },
   "file_extension": ".py",
   "mimetype": "text/x-python",
   "name": "python",
   "nbconvert_exporter": "python",
   "pygments_lexer": "ipython3",
   "version": "3.5.5"
  }
 },
 "nbformat": 4,
 "nbformat_minor": 2
}
