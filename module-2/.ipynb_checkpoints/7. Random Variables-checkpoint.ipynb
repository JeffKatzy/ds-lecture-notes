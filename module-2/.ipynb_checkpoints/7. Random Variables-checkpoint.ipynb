{
 "cells": [
  {
   "cell_type": "markdown",
   "metadata": {},
   "source": [
    "### Outline\n",
    "\n",
    "* We can take the expectation\n",
    "* We can take their variance\n",
    "* And their probability mass function"
   ]
  },
  {
   "cell_type": "markdown",
   "metadata": {},
   "source": [
    "#### Random Variable\n",
    "\n",
    "* Random Variable - a variable that probabilistically takes on different values.  \n",
    "* And these values can be taken on with different probabilities.\n",
    "\n",
    "A. Can do with equality: P(Y = 0)\n",
    "B. Or with greater or less than: P(Y < 4), and you can ask any mathematical inequality questions you want. \n",
    "\n",
    "\n",
    "A. Discrete RV\n",
    "\n",
    "So then flipping a coin is a random variable.  And is a discrete random variable.  So 1/8 ways that in three flips get all tails.  \n",
    "\n",
    "1. Binary random variable \n",
    "* Can take on values 1 or 0\n",
    "\n",
    "2. Now ask how if it comes k times from n flips.  This is n choose k.  \n",
    "\n",
    "> N choose k is different ways can choose k items from n items without repetition and order.\n",
    "\n",
    "${n \\choose k} p^k(1-p)^{n-k}$\n",
    "> This is because there are ${n \\choose k}$ orderings and $p^k(1-p)^{n-k}$ is the probability of one particular ordering.\n",
    "\n",
    "And $\\sum {n \\choose k} p^k(1-p)^{n-k} = 1$"
   ]
  },
  {
   "cell_type": "markdown",
   "metadata": {},
   "source": [
    "* Using random variables can decompose problems, and we have two main families of RVs: discrete and continuous."
   ]
  },
  {
   "cell_type": "markdown",
   "metadata": {},
   "source": [
    "#### Probability Mass Function\n",
    "\n",
    "1. As a function/dictionary \n",
    "\n",
    "Now that we have a random variable.  We say that X is discrete if it has countably many values.  So cannot be all of the real values, would have to be all of the whole values.  \n",
    "\n",
    "\n",
    "For a discrete random variable, we have a mapping between the values a random variable can take on, and the probability of that value.\n",
    "\n",
    "And the PMF for a discrete RV is just a histogram.  Eg. for six sided die, then it's histogram of equal bars.\n",
    "\n",
    "\n",
    "Note that $P_x(x)$ completely describes a discrete random variable.  Or in other words, knowing this function, we can determine anything else one might want to know about a random variable.  It must be the case that P(x)x = 1.\n",
    "\n",
    "Cumulative distribution function\n",
    "\n",
    "2. As a plot\n",
    "\n",
    "We can plot this where the x value is the different values, and the y-axis is the probability of those values."
   ]
  },
  {
   "cell_type": "markdown",
   "metadata": {},
   "source": [
    "### Expected value"
   ]
  },
  {
   "cell_type": "markdown",
   "metadata": {},
   "source": [
    "Fill in why we care about the E[X]"
   ]
  },
  {
   "cell_type": "markdown",
   "metadata": {},
   "source": [
    "#### Example 1\n",
    "Calculating expected value: \n",
    "    \n",
    "If have two classes of 5 and 40 students the expected value is \n",
    "$$\n",
    ".5*5 + .5*40 = 22.5\n",
    "$$"
   ]
  },
  {
   "cell_type": "markdown",
   "metadata": {},
   "source": [
    "#### Definition\n",
    "\n",
    "The expected value for a discrete random variable is the expected value which is:\n",
    "\n",
    "$$\n",
    "E[X] = \\sum xP(x)\n",
    "$$"
   ]
  },
  {
   "cell_type": "markdown",
   "metadata": {},
   "source": [
    "Cool way of thinking about expected value, is given a histogram, where to we place our finger so that the two sides balance out."
   ]
  },
  {
   "cell_type": "markdown",
   "metadata": {},
   "source": [
    "#### Example 2\n",
    "\n",
    "n is the number of coin flips before the first \"tails\" \n",
    "And you win 2^n dollars\n",
    "What is the exepected value: \n",
    "\n",
    "\n",
    "$$\n",
    "E[X] = (1/2)^1*2^0 + (1/2)^2*2 + (1/2)^3*2^2 = \\sum(1/2)^{i + 1}*2^i = \\sum_{i = 0}^\\infty 1/2 = \\infty\n",
    "$$"
   ]
  },
  {
   "cell_type": "markdown",
   "metadata": {},
   "source": [
    "#### Lying with stats\n",
    "\n",
    "If a school has 3 classes with 5, 10, and 150 students.  We randomly choose a class with equal probability. \n",
    "\n",
    "E[Y] = 5(1/3) + 10(1/3) + 150(1/3) = 55\n",
    "\n",
    "E[X] = 5(5/165) + 10(10/165) + 150(150/165) = 137"
   ]
  },
  {
   "cell_type": "markdown",
   "metadata": {},
   "source": [
    "> This seems very similar to simpson's paradox"
   ]
  },
  {
   "cell_type": "markdown",
   "metadata": {},
   "source": [
    "### Variance "
   ]
  },
  {
   "cell_type": "markdown",
   "metadata": {},
   "source": [
    "E[X] is cool because it tells us what we expect in the long run.  But is that enough?\n",
    "\n",
    "So one way of describing this is the amount of spread involved.  So how far are the values from one another.\n",
    "\n",
    "So we need to come with a number.  \n",
    "\n",
    "Var(X) = $E[(X - u)^2]$\n",
    "\n",
    "* Take a random variable, and subtract the mean of the random variable and square the difference.  This is the variance.\n",
    "> Note that this is kinda like the error that we saw with RSS.  Which makes sense.  We're making a prediction and variance is telling us how far off we are.\n",
    "This is just a way of measuring how far away something is from the mean - called the L2 norm.  \n",
    "\n",
    "Different way of writing variance:\n",
    "\n",
    "* $\\sum(x - u)^2p(x) = E[X^2] - E[X]^2$\n",
    "\n",
    "> So these two terms are very different.  The first one is if you take X and square it, what is the expectation of the result of that.  And the other is what's the expectation of X, and then square it.\n",
    "\n",
    "For example if we let X be the value of rolling a 6 sided die, then:\n",
    "\n",
    "* $E[X^2] = 1^2(1/6) + 2^2(1/6) + 3^2(1/6) ...  = 91/6$\n",
    "* $(E[X])^2 = (7/2)^2$\n",
    "* So variance is $E[X^2] - (E[X])^2 = 35/12$\n",
    "This is the numerical description of spread.\n",
    "\n",
    "\n",
    "Cool example: \n",
    "If do peer grading instead of actually grade it.  How far will people be from the norm.  Note that we could apply the same thing to perhaps restaurant reviews on yelp?  What is the distribution of a person's ranking, etc."
   ]
  }
 ],
 "metadata": {
  "kernelspec": {
   "display_name": "Python 3",
   "language": "python",
   "name": "python3"
  },
  "language_info": {
   "codemirror_mode": {
    "name": "ipython",
    "version": 3
   },
   "file_extension": ".py",
   "mimetype": "text/x-python",
   "name": "python",
   "nbconvert_exporter": "python",
   "pygments_lexer": "ipython3",
   "version": "3.5.5"
  }
 },
 "nbformat": 4,
 "nbformat_minor": 2
}
