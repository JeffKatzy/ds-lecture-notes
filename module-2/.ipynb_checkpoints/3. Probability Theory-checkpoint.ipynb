{
 "cells": [
  {
   "cell_type": "markdown",
   "metadata": {},
   "source": [
    "### Why Probability"
   ]
  },
  {
   "cell_type": "markdown",
   "metadata": {},
   "source": [
    "* We are uncertain about the future, yet often need to act as if we had information.\n",
    "* Things tend to repeat themselves at a similar frequency as previously"
   ]
  },
  {
   "cell_type": "markdown",
   "metadata": {},
   "source": [
    "### Probability Definitions\n",
    "\n",
    "Domain - Restaurant\n",
    "\n",
    "For example, say we want to assess the probability that someone will be promoted to manager at Walgreens in the next year.\n",
    "\n",
    "* The phenomena of interest is called an *experiment* with several mutually exclusive *outcomes*\n",
    "* The phenomena of interest are grouped into sets called *events* assigned to a value by a *measure* indicating how likely the outcome is to belong to the event"
   ]
  },
  {
   "cell_type": "markdown",
   "metadata": {},
   "source": [
    "> Examples\n",
    "> - Start with the probability that an individual is promoted to a position\n",
    "> - Then probability that a specific person is promoted"
   ]
  },
  {
   "cell_type": "markdown",
   "metadata": {},
   "source": [
    "1. Probability Space consists of:\n",
    "    * Sample space $\\Omega$, or X - all possible outcomes of an experiment.\n",
    "    * Probabiity measure P - assigns probabilities to the events in F\n",
    "    * F - a set of events \n",
    "\n",
    "* Sample space $\\Omega$ of all possible outcomes "
   ]
  },
  {
   "cell_type": "code",
   "execution_count": null,
   "metadata": {},
   "outputs": [],
   "source": [
    "X = {'manager', 'senior manager', 'standard'}"
   ]
  },
  {
   "cell_type": "markdown",
   "metadata": {},
   "source": [
    "* Events, $\\omega$\n",
    " - Eg. manager or senior manager\n",
    "* Probability Measure \n",
    "    * Assigns probabilities to the events in F\n",
    "    \n",
    "Note that F does not need to consist of all possible events.  We can "
   ]
  },
  {
   "cell_type": "markdown",
   "metadata": {},
   "source": [
    "#### Probability measure  (three big rules)\n",
    "\n",
    "* P($\\varnothing$) = 0 and P($\\Omega$) = 1\n",
    "*  $ 0 \\leq  P(E) \\geq 1$\n",
    "*  If events are disjoint, then $ P (\\cup_{i = 1}^n E) = \\sum^n_{i=1} P(E_i) $"
   ]
  },
  {
   "cell_type": "markdown",
   "metadata": {},
   "source": [
    "> Is $P(\\varnothing)$ an event?  How about P($\\omega$).  These are all events, but not outcomes.  \n",
    "\n",
    "> * Remember that outcomes must be mutually exclusive but events are not necessarily mutually exclusive."
   ]
  },
  {
   "cell_type": "markdown",
   "metadata": {},
   "source": [
    "### Set theory \n",
    "\n",
    "?"
   ]
  },
  {
   "cell_type": "markdown",
   "metadata": {},
   "source": [
    "#### Discrete Probability\n",
    "\n",
    "Whether someone will be promoted is a discrete probability.  \n",
    "\n",
    "* Because has countable number of outcomes. So for example, when we have this categorical information this is discrete probability.  \n",
    "* But height is not discrete probability.  Because can be anything in between."
   ]
  },
  {
   "cell_type": "markdown",
   "metadata": {},
   "source": []
  },
  {
   "cell_type": "markdown",
   "metadata": {},
   "source": [
    "### Potential Resources\n",
    "\n",
    "Probability Resources\n",
    "https://www.math.lsu.edu/~madden/M3355spr2011/Lecture-1.pdf\n",
    "\n",
    "\n",
    "* Remember obama asked people to assign a probability or confidence to what would occur\n",
    "* Could be age discrimination case, etc.\n",
    "\n",
    "https://repository.law.umich.edu/cgi/viewcontent.cgi?referer=https://www.google.com/&httpsredir=1&article=1082&context=mjlr\n",
    "* https://scholarship.law.duke.edu/cgi/viewcontent.cgi?article=3739&context=lcp"
   ]
  },
  {
   "cell_type": "code",
   "execution_count": null,
   "metadata": {},
   "outputs": [],
   "source": []
  }
 ],
 "metadata": {
  "kernelspec": {
   "display_name": "Python 3",
   "language": "python",
   "name": "python3"
  },
  "language_info": {
   "codemirror_mode": {
    "name": "ipython",
    "version": 3
   },
   "file_extension": ".py",
   "mimetype": "text/x-python",
   "name": "python",
   "nbconvert_exporter": "python",
   "pygments_lexer": "ipython3",
   "version": "3.5.5"
  }
 },
 "nbformat": 4,
 "nbformat_minor": 2
}
