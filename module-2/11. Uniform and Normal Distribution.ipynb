{
 "cells": [
  {
   "cell_type": "markdown",
   "metadata": {},
   "source": [
    "### Uniform random variable \n",
    "\n",
    "X is a uniform random variable where X ~ Uni(a, B) and PDF \n",
    "\n",
    "$ f(x) = \\frac{1}{\\beta - \\alpha}$ x between $\\alpha$ and $\\beta$\n",
    "\n",
    "So this means that it is a straight line.  \n",
    "\n",
    "> Example: \n",
    "P(10 < X < 1)\n",
    "\n",
    "When to leave for class: \n",
    "\n",
    "Can have a cost function, which is C()"
   ]
  },
  {
   "cell_type": "markdown",
   "metadata": {},
   "source": [
    "### Gaussian Distribution"
   ]
  },
  {
   "cell_type": "markdown",
   "metadata": {},
   "source": [
    "* We like the gaussian because it is the most conservative given the mean and the variance.  And doesn't make too many other assumptions.  "
   ]
  },
  {
   "cell_type": "markdown",
   "metadata": {},
   "source": [
    "$ X  =~ N(u, \\sigma ^2)$ "
   ]
  },
  {
   "cell_type": "markdown",
   "metadata": {},
   "source": [
    "So then $\\sigma$ is the standard deviation.  So we have a probability density function. So then \n",
    "\n",
    "f(x) = $\\frac{1}{\\sigma \\sqrt{2 \\pi}}* e^\\frac{{-(x - \\mu)^2}}{2\\sigma^2}$\n",
    "\n",
    "So the $\\mu$ defines the mode/expectation of the distribution and $\\sigma ^2$ is the variance, which says how spread it is."
   ]
  },
  {
   "cell_type": "markdown",
   "metadata": {},
   "source": [
    "> Applications of the normal \n",
    "1. Common for heights, weights\n",
    "2. A lot of noise is normal\n",
    "\n",
    "Except a lot of things are not normal.  \n",
    "\n",
    "But what's nice about the normal is that it tends to avoid overfitting.  So we can use the mean and the spread, and it can describe well without overfitting.\n",
    "\n",
    "A gaussian maximizes entropy for a given mean and variance.  "
   ]
  },
  {
   "cell_type": "markdown",
   "metadata": {},
   "source": [
    "### Diving into the gaussian function"
   ]
  },
  {
   "cell_type": "markdown",
   "metadata": {},
   "source": [
    "Because we like to know what is the likelihood that our variable takes on a value within that range. \n",
    "\n",
    "Now in continuous random variable land, we integrate it.  There is no closed form for the integral. \n",
    "\n",
    "If x is a normal distribution, with $(\\mu, \\sigma^2)$, we can caluclate the cumulative density.  \n",
    "\n",
    "$ F(x) = \\phi\\frac{x - u}{\\sigma}$"
   ]
  },
  {
   "cell_type": "markdown",
   "metadata": {},
   "source": [
    "* Linear transform \n",
    "\n",
    "* Y = aX + B, Y is also a normal\n",
    "* $ Z = \\frac{X - u}{\\sigma}$\n",
    "\n",
    "For any X, if we apply the linear transform we get mean zero and standard deviation 1.\n",
    "\n",
    "Z is not just called the normal distribution, but is called the standard normal distribution."
   ]
  },
  {
   "cell_type": "markdown",
   "metadata": {},
   "source": [
    "This capital value phi is cumulative density that the standard normal is less than a value phi."
   ]
  },
  {
   "cell_type": "markdown",
   "metadata": {},
   "source": [
    "We can use the transform  $Z = \\frac{X - u}{\\sigma}$\n",
    "\n",
    "$F_x(x) = P(X < x) $\n",
    "\n",
    "So $F(x) = \\phi \\frac{x -u }{\\sigma}$\n",
    "\n",
    "Remember that phi of a negative number is the same as 1 - phi of a positive number."
   ]
  },
  {
   "cell_type": "markdown",
   "metadata": {},
   "source": [
    "### Applications of gaussian"
   ]
  },
  {
   "cell_type": "markdown",
   "metadata": {},
   "source": [
    "* So now given a gaussian, N(3, 16), what is the P(X > 0)?\n",
    "\n",
    "$ Z = (0 - 3)/4 = P(Z > -3/4) = 1 - P(Z< 3/4)$\n",
    "\n",
    "And now $P(2 < X < 5)$?"
   ]
  },
  {
   "cell_type": "markdown",
   "metadata": {},
   "source": [
    "> Example of a noisy signal\n",
    "\n",
    "So noise is a Y ~ N(0, 1), and voltage of 2 or -2 sent.  R = X + Y, where Y is noise.  \n",
    "X is voltage sent.  \n",
    "\n",
    "P(Error of decoding | original bit = 1) = \n",
    "P(Y < -1.5) = $\\phi(-1.5) = 1 - \\phi(1.5) = .0668$\n",
    "\n",
    "* Wires don't have this much noise in them, but GPS's do, because gov'ts insert noise so that people cannot figure out their exact location.\n",
    "\n",
    "> Now P(error | original bit a zero) = \n",
    "\n",
    "* .5 > -2 - X\n",
    "\n",
    "$P(X > 2.5) = 1 - \\phi(2.5)$"
   ]
  },
  {
   "cell_type": "markdown",
   "metadata": {},
   "source": [
    "> 2. Example of Elo Ratings to predict basketball outomces  "
   ]
  },
  {
   "cell_type": "markdown",
   "metadata": {},
   "source": [
    "Each team has an ELO score S, calculated based on their past performance. And team has ability $ A ~ N(S, 200^2)$\n",
    "\n",
    "So both teams sample from their distribution.  So for the rockets is N(1555, 200), N(1797, 200).  So the variance is shared by everyone.  \n",
    "\n",
    "So note that even though we have a rating, we add variance.   \n",
    "\n",
    "* So can do this by sampling random variable (10k times) from both, and see where warriors is bigger.  Here we get .87.  \n",
    "So now what is the probability they win the best of 7 series.  \n",
    "\n",
    "So use binomial, P(4) + P(5) + P(6) + P(7).\n",
    "\n",
    "* See the debugging probability section.\n"
   ]
  },
  {
   "cell_type": "markdown",
   "metadata": {},
   "source": [
    "> Example with Poll of Polls\n",
    "\n",
    "Take normal distribution for each.  \n",
    "1. Say that each is an independent Gaussian (it's not because the two must sum up to 100)\n",
    "2. Mean is weighted average of poll means, based on how much they believe each poll\n",
    "3. Variance is weighted avg of poll trust \n",
    "* So amount of variance they believe exists in those poll.  So then they do samples to see how often the bernie sanders is greater than HRC. \n",
    "\n",
    "So they did not know how to model their uncertainty, so they just assumed a gaussian.  (Bc that's the best when don't know how to model uncertainty).  \n",
    "\n",
    "To sample from a normal, can do rand(norm)"
   ]
  },
  {
   "cell_type": "markdown",
   "metadata": {},
   "source": [
    "### Other uses for the normal \n",
    "\n",
    "The normal is an approximation of the binomial with a large n.\n",
    "\n",
    "* Poisson: n large > 20, p small < .05.  And poisson allows us when we only know lambda, ie n*p.\n",
    "\n",
    "Normal, with mean equal to expectation of binomial, and variance equal to variance of binomial.  \n",
    "If your variance is > 10, you have a pretty good approximation. \n",
    "\n",
    "But now remember that the binomial is discrete, so how do we find that it equals a particular value of x.  We go from 4.5 to 5.5 and say that is 5, by taking the area under the curve.   \n",
    "* Called a continuity correction. \n",
    "\n",
    "\n",
    "So if asking the P that warriors win 3 games, it's k between 2.5 and 3.5.  \n",
    "So when n = 100, and p = .5, then the normal does a good job.  But the poisson does not.  P was not small enough for the poisson."
   ]
  },
  {
   "cell_type": "markdown",
   "metadata": {},
   "source": [
    "### a b testing\n",
    "\n",
    "* 100 people given new website design\n",
    "* X = # of people whose time on site increases\n",
    "* CEO will endorse if X > 65.  What is P(CEO endorses change | no effect)?\n",
    "\n",
    "We can think of this as avg number of users who will increase, given that .5 chance someone will increase.  \n",
    "\n",
    "Normal where \n",
    "* $\\mu = np = 50$\n",
    "* $ np(1-p) = 25$\n",
    "\n",
    "So now we define a random variable with normal approximation that has N(50, 25)"
   ]
  },
  {
   "cell_type": "markdown",
   "metadata": {},
   "source": [
    "$P(Y > 64.5) = P(\\frac {Y-50}{5}) >  \\frac {64.5-50}{5}) = P(Z > 2.9) = 1 - \\phi(2.9) = .0019$ \n",
    "\n",
    "\n",
    "And using the binomial we get .0018"
   ]
  },
  {
   "cell_type": "markdown",
   "metadata": {},
   "source": [
    "> Example stanford admissions \n",
    "\n",
    "* Stanford accepts 2480 students, with 68% of attending.  They only have 1745 beds.\n",
    "* X = # of students who will attend\n",
    "* P(X > 1745) \n",
    "\n",
    ">* mu = 2485*.68 = 1686.4\n",
    ">* var = np*(1 - p) = mu*.32 = 540.8 \n",
    ">* sd = 23.23\n",
    "\n"
   ]
  },
  {
   "cell_type": "markdown",
   "metadata": {},
   "source": [
    "$ P(Y - 1686/23.5 > 1744.5 - 1686 / 23.25) = 1 - \\phi(65.5/23.5)$\n",
    "\n",
    "$1 -  \\phi(2.765)  = .0055 $"
   ]
  },
  {
   "cell_type": "markdown",
   "metadata": {},
   "source": [
    "### Exponential \n",
    "\n",
    "How much time do you have until an event happens.  It's like a continuous version of the geometric which we saw in the discrete world.  \n",
    "\n",
    "* Poisson: It's the same lambda used in the Poisson distribution.  In poisson, if this is the rate of events per time period, what is the probability of having a particular quanity of events in a given time period. \n",
    "\n",
    "* Exponential - What's the proabbility of having to wait a particular amount of time until the next event.  So then the probability of having to wait that long is an exponential decay over time.\n",
    "\n",
    "* $ E[X] = \\frac{1}{\\lambda}$ \n",
    "* $ Var[X] = \\frac{1}{\\lambda^2}$\n",
    "\n",
    "Eg. Probability earthquake comes within one year, or that next request to webserver in next second, or how long until you end your cell phone contract (or say mad men that lucky strike defects, or a supreme court justice resigns, churn)\n",
    "\n",
    "**main point: P(X > s +t | X > s) = P(X > t)** \n",
    "* So we don't care about how much time has passed, if we are conditioning on this.  So if we are 10 time frames from the beginning, it is almost as if we started from zero.\n",
    "\n",
    "* This is considered memoryless, in that it does not remember the past.  Proof?\n",
    "* $P(X> s + t| X > s) = P(X > s + t and X > s | P(X > S) = P(X > s +t)/P(X > s)$  \n",
    "* OR the P(X > s + t and X > s) = P(X > s + t)  ,as this is also greater than s.\n",
    "\n",
    "Eg. Visits to a website\n",
    "On average a visitor leaves after five minutes.  So the average amount of time $E[X] = 1/\\lambda = 5$"
   ]
  },
  {
   "cell_type": "markdown",
   "metadata": {},
   "source": [
    "> Example Replacing the laptop\n",
    "X = # of hours use until your laptop dies\n",
    "* Probability the laptop lasts all four years\n",
    "P(X > 5*365*4 = 7300) = 1 - F(7300) = .23 is chance that it lasts all four years.\n",
    "\n"
   ]
  },
  {
   "cell_type": "markdown",
   "metadata": {},
   "source": [
    "So what's the probability of lasting 5 years, given that it's lasted four years.  That just equals the probability of it lasting one more year.  \n",
    "\n",
    "Maybe laptops more likely to die as it gets older, then cannot use an exponential.  **But remember the article that says that humans are in fact exponential** \n",
    "\n"
   ]
  }
 ],
 "metadata": {
  "kernelspec": {
   "display_name": "Python 3",
   "language": "python",
   "name": "python3"
  },
  "language_info": {
   "codemirror_mode": {
    "name": "ipython",
    "version": 3
   },
   "file_extension": ".py",
   "mimetype": "text/x-python",
   "name": "python",
   "nbconvert_exporter": "python",
   "pygments_lexer": "ipython3",
   "version": "3.5.5"
  }
 },
 "nbformat": 4,
 "nbformat_minor": 2
}
