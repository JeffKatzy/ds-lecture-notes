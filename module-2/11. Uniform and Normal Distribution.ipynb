{
 "cells": [
  {
   "cell_type": "markdown",
   "metadata": {},
   "source": [
    "### Uniform random variable \n",
    "\n",
    "X is a uniform random variable where X ~ Uni(a, B) and PDF \n",
    "\n",
    "$ f(x) = \\frac{1}{\\beta - \\alpha}$ x between $\\alpha$ and $\\beta$\n",
    "\n",
    "So this means that it is a straight line.  \n",
    "\n",
    "> Example: \n",
    "P(10 < X < 1)\n",
    "\n",
    "When to leave for class: \n",
    "\n",
    "Can have a cost function, which is C()"
   ]
  },
  {
   "cell_type": "markdown",
   "metadata": {},
   "source": [
    "### Gaussian Distribution"
   ]
  },
  {
   "cell_type": "markdown",
   "metadata": {},
   "source": [
    "$ X  =~ N(u, \\sigma ^2)$ "
   ]
  },
  {
   "cell_type": "markdown",
   "metadata": {},
   "source": [
    "So then $/sigma$ is the standard deviation.  So we have a probability density function. So then \n",
    "\n",
    "f(x) = $\\frac{1}{\\sigma \\sqrt{2 \\pi}}* e^\\frac{{-(x - \\mu)^2}}{2\\sigma^2}$\n",
    "\n",
    "So the $\\mu$ defines the mode/expectation of the distribution and $\\sigma ^2$ is the variance, which says how spread it is."
   ]
  },
  {
   "cell_type": "markdown",
   "metadata": {},
   "source": [
    "> Applications of the normal \n",
    "1. Common for heights, weights\n",
    "2. A lot of noise is normal\n",
    "\n",
    "Except a lot of things are not normal.  \n",
    "\n",
    "But what's nice about the normal is that it tends to avoid overfitting.  So we can use the mean and the spread, and it can describe well without overfitting.\n",
    "\n",
    "A gaussian maximizes entropy for a given mean and variance.  "
   ]
  },
  {
   "cell_type": "markdown",
   "metadata": {},
   "source": [
    "### Diving into the gaussian function"
   ]
  },
  {
   "cell_type": "markdown",
   "metadata": {},
   "source": [
    "Because we like to know what is the likelihood that our variable takes on a value within that range. \n",
    "\n",
    "Now in continuous random variable land, we integrate it.  There is no closed form for the integral. \n",
    "\n",
    "If x is a normal distribution, with $(\\mu, \\sigma^2)$, we can caluclate the cumulative density.  \n",
    "\n",
    "$ F(x) = \\phi\\frac{x - u}{\\sigma}$"
   ]
  },
  {
   "cell_type": "markdown",
   "metadata": {},
   "source": [
    "* Linear transform \n",
    "\n",
    "* Y = aX + B, Y is also a normal\n",
    "* $ Z = \\frac{X - u}{\\sigma}$\n",
    "\n",
    "For any X, if we apply the linear transform we get mean zero and standard deviation 1.\n",
    "\n",
    "Z is not just called the normal distribution, but is called the standard normal distribution."
   ]
  },
  {
   "cell_type": "code",
   "execution_count": null,
   "metadata": {},
   "outputs": [],
   "source": []
  }
 ],
 "metadata": {
  "kernelspec": {
   "display_name": "Python 3",
   "language": "python",
   "name": "python3"
  },
  "language_info": {
   "codemirror_mode": {
    "name": "ipython",
    "version": 3
   },
   "file_extension": ".py",
   "mimetype": "text/x-python",
   "name": "python",
   "nbconvert_exporter": "python",
   "pygments_lexer": "ipython3",
   "version": "3.5.5"
  }
 },
 "nbformat": 4,
 "nbformat_minor": 2
}
