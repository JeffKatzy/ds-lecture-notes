{
 "cells": [
  {
   "cell_type": "markdown",
   "metadata": {},
   "source": [
    "### Uniform random variable \n",
    "\n",
    "X is a uniform random variable where X ~ Uni(a, B) and PDF \n",
    "\n",
    "$ f(x) = \\frac{1}{\\beta - \\alpha}$ x between $\\alpha$ and $\\beta$\n",
    "\n",
    "So this means that it is a straight line.  \n",
    "\n",
    "> Example: \n",
    "P(10 < X < 1)\n",
    "\n",
    "When to leave for class: \n",
    "\n",
    "Can have a cost function, which is C()"
   ]
  },
  {
   "cell_type": "markdown",
   "metadata": {},
   "source": [
    "### Gaussian Distribution"
   ]
  },
  {
   "cell_type": "markdown",
   "metadata": {},
   "source": [
    "$ X  =~ N(u, \\sigma ^2)$ "
   ]
  },
  {
   "cell_type": "markdown",
   "metadata": {},
   "source": [
    "So then $/sigma$ is the standard deviation.  So we have a probability density function. So then \n",
    "\n",
    "f(x) = $\\frac{1}{\\sigma \\sqrt{2 \\pi}}* e^\\frac{{-(x - \\mu)^2}}{2\\sigma^2}$\n",
    "\n",
    "So the $\\mu$ defines the mode/expectation of the distribution and $\\sigma ^2$ is the variance, which says how spread it is."
   ]
  },
  {
   "cell_type": "markdown",
   "metadata": {},
   "source": [
    "> Applications of the normal \n",
    "1. Common for heights, weights\n",
    "2. A lot of noise is normal\n",
    "\n",
    "Except a lot of things are not normal.  \n",
    "\n",
    "But what's nice about the normal is that it tends to avoid overfitting.  So we can use the mean and the spread, and it can describe well without overfitting.\n",
    "\n",
    "A gaussian maximizes entropy for a given mean and variance.  "
   ]
  },
  {
   "cell_type": "markdown",
   "metadata": {},
   "source": [
    "### Diving into the gaussian function"
   ]
  },
  {
   "cell_type": "markdown",
   "metadata": {},
   "source": [
    "Because we like to know what is the likelihood that our variable takes on a value within that range. \n",
    "\n",
    "Now in continuous random variable land, we integrate it.  There is no closed form for the integral. \n",
    "\n",
    "If x is a normal distribution, with $(\\mu, \\sigma^2)$, we can caluclate the cumulative density.  \n",
    "\n",
    "$ F(x) = \\phi\\frac{x - u}{\\sigma}$"
   ]
  },
  {
   "cell_type": "markdown",
   "metadata": {},
   "source": [
    "* Linear transform \n",
    "\n",
    "* Y = aX + B, Y is also a normal\n",
    "* $ Z = \\frac{X - u}{\\sigma}$\n",
    "\n",
    "For any X, if we apply the linear transform we get mean zero and standard deviation 1.\n",
    "\n",
    "Z is not just called the normal distribution, but is called the standard normal distribution."
   ]
  },
  {
   "cell_type": "markdown",
   "metadata": {},
   "source": [
    "This capital value phi is cumulative density that the standard normal is less than a value phi."
   ]
  },
  {
   "cell_type": "markdown",
   "metadata": {},
   "source": [
    "We can use the transform  $Z = \\frac{X - u}{\\sigma}$\n",
    "\n",
    "$F_x(x) = P(X < x) $\n",
    "\n",
    "So $F(x) = \\phi \\frac{x -u }{\\sigma}$\n",
    "\n",
    "Remember that phi of a negative number is the same as 1 - phi of a positive number."
   ]
  },
  {
   "cell_type": "markdown",
   "metadata": {},
   "source": [
    "### Applications of gaussian"
   ]
  },
  {
   "cell_type": "markdown",
   "metadata": {},
   "source": [
    "* So now given a gaussian, N(3, 16), what is the P(X > 0)?\n",
    "\n",
    "$ Z = (0 - 3)/4 = P(Z > -3/4) = 1 - P(Z< 3/4)$\n",
    "\n",
    "And now $P(2 < X < 5)$?"
   ]
  },
  {
   "cell_type": "markdown",
   "metadata": {},
   "source": [
    "> Example of a noisy signal\n",
    "\n",
    "So noise is a Y ~ N(0, 1), and voltage of 2 or -2 sent.  R = X + Y, where Y is noise.  \n",
    "X is voltage sent.  \n",
    "\n",
    "P(Error of decoding | original bit = 1) = \n",
    "P(Y < -1.5) = $\\phi(-1.5) = 1 - \\phi(1.5) = .0668$\n",
    "\n",
    "* Wires don't have this much noise in them, but GPS's do, because gov'ts insert noise so that people cannot figure out their exact location.\n",
    "\n",
    "> Now P(error | original bit a zero) = \n",
    "\n",
    "* .5 > -2 - X\n",
    "\n",
    "$P(X > 2.5) = 1 - \\phi(2.5)$"
   ]
  },
  {
   "cell_type": "markdown",
   "metadata": {},
   "source": [
    "> 2. Example of Elo Ratings to predict basketball outomces  "
   ]
  },
  {
   "cell_type": "markdown",
   "metadata": {},
   "source": [
    "Each team has an ELO score S, calculated based on their past performance. And team has ability $ A ~ N(S, 200^2)$\n",
    "\n",
    "So both teams sample from their distribution.  So for the rockets is N(1555, 200), N(1797, 200).  So the variance is shared by everyone.  \n",
    "\n",
    "So note that even though we have a rating, we add variance.   \n",
    "\n",
    "* So can do this by sampling random variable (10k times) from both, and see where warriors is bigger.  Here we get .87.  \n",
    "So now what is the probability they win the best of 7 series.  \n",
    "\n",
    "So use binomial, P(4) + P(5) + P(6) + P(7).\n",
    "\n",
    "* See the debugging probability section.\n"
   ]
  },
  {
   "cell_type": "markdown",
   "metadata": {},
   "source": [
    "> Example with Poll of Polls\n",
    "\n",
    "Take normal distribution for each.  \n",
    "1. Say that each is an independent Gaussian (it's not because the two must sum up to 100)\n",
    "2. Mean is weighted average of poll means, based on how much they believe each poll\n",
    "3. Variance is weighted avg of poll trust \n",
    "* So amount of variance they believe exists in those poll.  So then they do samples to see how often the bernie sanders is greater than HRC. \n",
    "\n",
    "So they did not know how to model their uncertainty, so they just assumed a gaussian.  (Bc that's the best when don't know how to model uncertainty).  \n",
    "\n",
    "To sample from a normal, can do rand(norm)"
   ]
  },
  {
   "cell_type": "code",
   "execution_count": null,
   "metadata": {},
   "outputs": [],
   "source": []
  }
 ],
 "metadata": {
  "kernelspec": {
   "display_name": "Python 3",
   "language": "python",
   "name": "python3"
  },
  "language_info": {
   "codemirror_mode": {
    "name": "ipython",
    "version": 3
   },
   "file_extension": ".py",
   "mimetype": "text/x-python",
   "name": "python",
   "nbconvert_exporter": "python",
   "pygments_lexer": "ipython3",
   "version": "3.5.5"
  }
 },
 "nbformat": 4,
 "nbformat_minor": 2
}
