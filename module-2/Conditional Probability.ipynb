{
 "cells": [
  {
   "cell_type": "markdown",
   "metadata": {},
   "source": [
    "### Scenario"
   ]
  },
  {
   "cell_type": "markdown",
   "metadata": {},
   "source": [
    "1. Say we're starting a new microbrewery, and we want to what part of nyc to market to.  So we go to [the report](https://www1.nyc.gov/assets/planning/download/pdf/data-maps/nyc-population/projections_report_2010_2040.pdf) and see the following:\n",
    "\n",
    "| Age           |Brooklyn       | Manhattan|\n",
    "| ------------- |:-------------:| -----:|\n",
    "| 25-34         | 450k          | 375 k |\n",
    "|Other          | 2.15 m        | 1.25  |\n",
    "|Total          | 2.6 m          | 1.6   |"
   ]
  },
  {
   "cell_type": "markdown",
   "metadata": {},
   "source": [
    "Assume that regardless of if we target bk or manhattan, the same number of people will see the ad.  We want to know if we have a higher probability of our target seeing our add is in brooklyn or manhattan?"
   ]
  },
  {
   "cell_type": "markdown",
   "metadata": {},
   "source": [
    "* Rule of conditional probability\n",
    "\n",
    "Conditional probability - probability that event occurs given that F has occurred.  \"Conditioning on F\".  \n",
    "\n",
    "The effect is to reduce the sample space and the event space to those consistent with what we are conditioning on.  \n",
    "\n",
    "* $P(E|F) = \\frac{P(E\\cup F)}{P(F)}$\n",
    "* Chain rule: $P(E\\cup F) = P(F)P(E|F)$\n"
   ]
  },
  {
   "cell_type": "markdown",
   "metadata": {},
   "source": [
    "So applying the chain rule to our example above.  This would essentially be like saying assume that we don't do target marketing.  What's the probability of us getting someone from brooklyn that's a millenial?"
   ]
  },
  {
   "cell_type": "markdown",
   "metadata": {},
   "source": [
    "2. Generalized Chain rule: \n",
    "$P(E\\cup F \\cup G) = P(G)P(F|G)P(E|F,G)$"
   ]
  },
  {
   "cell_type": "markdown",
   "metadata": {},
   "source": [
    "> Point out: \n",
    "    1. We get to do this because of the product rule of counting\n",
    "    2. We have been doing something very similar to this when working with permutations 7*6*5"
   ]
  },
  {
   "cell_type": "markdown",
   "metadata": {},
   "source": [
    "So now let's see that with a problem flatiron school has.  This is non-active users.  So want to reach out to our email list of users, and give them a phone call to see if they'll signup."
   ]
  },
  {
   "cell_type": "markdown",
   "metadata": {},
   "source": [
    "1. We have 100 people in our email list, of which 20 are sleeping.  We choose call 30 of them.  What's the probability that 10 of the 30 are sleepers.\n",
    "\n",
    "$20 \\choose 10$ $70 \\choose 20$/$100 \\choose 30$"
   ]
  },
  {
   "cell_type": "markdown",
   "metadata": {},
   "source": [
    "So now we weed out 40 fake accounts.  So given that we only contact potentials, what is the probability we get 10 of 30 sleepers."
   ]
  },
  {
   "cell_type": "markdown",
   "metadata": {},
   "source": [
    "### Conditional Probability of cross-selling\n",
    "\n",
    "A. What is the probability that someone likes jurrassic park\n",
    "P(E) = # who watched/ # who liked\n",
    "\n",
    "B. But we want to know the probability that you liked the movie \n",
    "\n",
    "(% who liked JP and the matrix)/(% who liked JP)\n",
    "\n",
    "So now we update the probabilities of all of the rest of these movies.\n",
    "\n",
    "> **Problem with this** is that you like a lot of movies..and if see your entire combination of movies you liked then there are not a lot of people with that combination of movies...so will need to alter this\n",
    "\n",
    "> Can apply this to the Netflix problem.  Given that someone has watched one The Matrix, what is the probability that they will watch Jurasic Park.  \n",
    "\n",
    "> Perhaps can provide them with a dataset, and ensure they are trying to gather the correct data.  P(A) = Watching the Matrix.  P(A & B) = P(Watching Matrix and Jurrassic Park).   \n",
    "\n",
    "> * Then also can do this with watching and liking Jurrassic Park.  \n",
    "\n",
    "P(E|F) = P(EF)/P(F) = \n",
    "$\\frac{\\frac{people who liked both}{people who watched both}}{\\frac{people who liked amelie}{people who watched amelie}}$\n"
   ]
  },
  {
   "cell_type": "markdown",
   "metadata": {},
   "source": [
    "### Bayes formula\n",
    "\n",
    "1. Why bayes.  So far we have assumed a hypothesis.  For example, we have said we have a sleeper and then given a sleeper,asked the chance that we pick him.  \n",
    "\n",
    "This time we will look to assign a probability to that hypothesis and will do so based evidence.  \n",
    "\n",
    "So for example, I may say what's the probability that someone signs up for Flatiron school.  So I look at all of the people who have registered, and say 70% millenial, 30% non-millenial.   \n",
    "\n",
    "* so we have P(M|Signup)\n",
    "* and want P(Signup|Millenial)\n",
    "\n",
    "* So we Millenial the evidence and \n",
    "* Signup the hypothesis\n",
    "\n",
    "$P(H|E) = \\frac{P(EH)}{P(E)}$\n",
    "$= \\frac{P(E|H)P(H)}{P(E)} $"
   ]
  },
  {
   "cell_type": "markdown",
   "metadata": {},
   "source": [
    "### Bayes with the law of total probability\n",
    "\n",
    "If have two events E and F in sample space S.  Then can think of E as two parts: \n",
    "\n",
    "1. $E \\cap F$ (intersection)\n",
    "2. $E \\cap F^c$\n",
    "\n",
    "So if you take the "
   ]
  },
  {
   "cell_type": "code",
   "execution_count": null,
   "metadata": {},
   "outputs": [],
   "source": []
  }
 ],
 "metadata": {
  "kernelspec": {
   "display_name": "Python 3",
   "language": "python",
   "name": "python3"
  },
  "language_info": {
   "codemirror_mode": {
    "name": "ipython",
    "version": 3
   },
   "file_extension": ".py",
   "mimetype": "text/x-python",
   "name": "python",
   "nbconvert_exporter": "python",
   "pygments_lexer": "ipython3",
   "version": "3.5.5"
  }
 },
 "nbformat": 4,
 "nbformat_minor": 2
}
