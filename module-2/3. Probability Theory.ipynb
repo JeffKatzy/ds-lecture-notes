{
 "cells": [
  {
   "cell_type": "markdown",
   "metadata": {},
   "source": [
    "### Why Probability"
   ]
  },
  {
   "cell_type": "markdown",
   "metadata": {},
   "source": [
    "* We are uncertain about the future, yet often need to act as if we had information.\n",
    "* Things tend to repeat themselves at a similar frequency as previously"
   ]
  },
  {
   "cell_type": "markdown",
   "metadata": {},
   "source": [
    "### Probability Definitions\n",
    "\n",
    "Domain - Restaurant\n",
    "\n",
    "For example, say we want to assess the probability that someone will be promoted to manager at Walgreens in the next year.\n",
    "\n",
    "* The phenomena of interest is called an *experiment* with several mutually exclusive *outcomes*\n",
    "* The phenomena of interest are grouped into sets called *events* assigned to a value by a *measure* indicating how likely the outcome is to belong to the event"
   ]
  },
  {
   "cell_type": "markdown",
   "metadata": {},
   "source": [
    "> Examples\n",
    "> - Start with the probability that an individual is promoted to a position\n",
    "> - Then probability that a specific person is promoted"
   ]
  },
  {
   "cell_type": "markdown",
   "metadata": {},
   "source": [
    "1. Probability Space consists of:\n",
    "    * Sample space $\\Omega$, or X - all possible outcomes of an experiment.\n",
    "    * Probabiity measure P - assigns probabilities to the events in F\n",
    "    * F - a set of events \n",
    "\n",
    "* Sample space $\\Omega$ of all possible outcomes \n",
    "\n",
    "A. Sample spaces, S\n",
    "1. Coin flip: S = {Head, Tails}\n",
    "2. Flipping two coins: S = {(H, H), (H, T), (T, H), (T, T)}\n",
    "3. Roll of 6-sided die: S = {1, 2, 3, 4, 5, 6}\n",
    "4. number of emails in a day: S = {x | x Î Z, x ≥ 0} (non-neg. ints)"
   ]
  },
  {
   "cell_type": "code",
   "execution_count": null,
   "metadata": {},
   "outputs": [],
   "source": [
    "X = {'manager', 'senior manager', 'standard'}"
   ]
  },
  {
   "cell_type": "markdown",
   "metadata": {},
   "source": [
    "B. Events Space, E a subset of S \n",
    "\n",
    "An event space is a subset that we ascribe meaning to.  \n",
    "\n",
    "1. Coin flip is heads: E = {Head}\n",
    "2. ≥ 1 head on 2 coin flips: E = {(H, H), (H, T), (T, H)}\n",
    "3. Roll of die is 3 or less: E = {1, 2, 3}"
   ]
  },
  {
   "cell_type": "markdown",
   "metadata": {},
   "source": [
    "C. Probability Measure \n",
    "    * Assigns probabilities to the events in E\n",
    "    \n",
    "Note that E does not need to consist of all possible events."
   ]
  },
  {
   "cell_type": "markdown",
   "metadata": {},
   "source": [
    "#### Probability measure  (three big rules)\n",
    "\n",
    "* P($\\varnothing$) = 0 and P($\\Omega$) = 1\n",
    "*  $ 0 \\leq  P(E) \\geq 1$\n",
    "*  If events are disjoint, then $ P (\\cup_{i = 1}^n E) = \\sum^n_{i=1} P(E_i) $"
   ]
  },
  {
   "cell_type": "markdown",
   "metadata": {},
   "source": [
    "> Is $P(\\varnothing)$ an event?  How about P($\\omega$).  These are all events, but not outcomes.  \n",
    "\n",
    "> * Remember that outcomes must be mutually exclusive but events are not necessarily mutually exclusive."
   ]
  },
  {
   "cell_type": "markdown",
   "metadata": {},
   "source": [
    "#### Implications of probability \n",
    "\n",
    "* $P(E^c) = 1 - P(E)$\n",
    "* $P(E \\subset F) ,  P(E) \\leq P(F)$\n",
    "* $P(E \\cup F) = P(E) + P(F) - P(EF)$"
   ]
  },
  {
   "cell_type": "markdown",
   "metadata": {},
   "source": [
    "#### Discrete Probability\n",
    "\n",
    "Whether someone will be promoted is a discrete probability.  \n",
    "\n",
    "* Because has countable number of outcomes. So for example, when we have this categorical information this is discrete probability.  \n",
    "* But height is not discrete probability.  Because can be anything in between."
   ]
  },
  {
   "cell_type": "markdown",
   "metadata": {},
   "source": [
    "> Think about the idea that these sets are almost like trees, with only being one level deep."
   ]
  },
  {
   "cell_type": "markdown",
   "metadata": {},
   "source": [
    "### Calculating Equally likely outcomes\n",
    "\n",
    "ome sample spaces have equally likely outcomes. We like those sample spaces.\n",
    "1. Coin flip: S = {Head, Tails}\n",
    "2. Flipping two coins: S = {(H, H), (H, T), (T, H), (T, T)}\n",
    "3. Roll of 6-sided die: S = {1, 2, 3, 4, 5, 6}\n",
    "    \n",
    "    \n",
    "* P(Each outcome) = 1/# outcomes \n",
    "\n",
    "* P(E) = number of outcomes in E/number of outcomes in S \n",
    "\n",
    "P(E)/P(S)"
   ]
  },
  {
   "cell_type": "markdown",
   "metadata": {},
   "source": [
    "### Examples "
   ]
  },
  {
   "cell_type": "markdown",
   "metadata": {},
   "source": [
    "I.  Roll two six sided dice, what is the probability of getting a 7.  \n",
    "\n",
    "1. Sample space - Outcomes of rolling the different dice, 36\n",
    "2. Event space - 6\n",
    "So then 6/36 = 6\n",
    "\n",
    "II. Twinkies and Ding Dongs\n",
    "\n",
    "4 twinkies and 3 ding dongs.  3 are drawn.  What is the probability of getting exactly one twinky and two ding dongs. \n",
    "\n",
    "1. Ordered \n",
    "A. Sample space - pick three ordered items\n",
    "(7p3)\n",
    "B. Outcomes - (4*3*2) +  (3*4*2) + (3*2*4)\n",
    "\n",
    "2. Unordered\n",
    "\n",
    "* Sample = 7 choose 3 = 35\n",
    "* Event = $4 \\choose 1$ * $3 \\choose 2$ = 12"
   ]
  },
  {
   "cell_type": "markdown",
   "metadata": {},
   "source": [
    "### Potential Resources\n",
    "\n",
    "Probability Resources\n",
    "https://www.math.lsu.edu/~madden/M3355spr2011/Lecture-1.pdf\n",
    "\n",
    "Anything with a seating chart we can think of?\n",
    "For permutations and combinations\n",
    "\n",
    "\n",
    "* Remember obama asked people to assign a probability or confidence to what would occur\n",
    "* Could be age discrimination case, etc.\n",
    "\n",
    "https://repository.law.umich.edu/cgi/viewcontent.cgi?referer=https://www.google.com/&httpsredir=1&article=1082&context=mjlr\n",
    "* https://scholarship.law.duke.edu/cgi/viewcontent.cgi?article=3739&context=lcp"
   ]
  },
  {
   "cell_type": "markdown",
   "metadata": {},
   "source": [
    "https://web.stanford.edu/class/archive/cs/cs109/cs109.1166/pdfs/06%20Probability.pdf"
   ]
  },
  {
   "cell_type": "code",
   "execution_count": null,
   "metadata": {},
   "outputs": [],
   "source": []
  }
 ],
 "metadata": {
  "kernelspec": {
   "display_name": "Python 3",
   "language": "python",
   "name": "python3"
  },
  "language_info": {
   "codemirror_mode": {
    "name": "ipython",
    "version": 3
   },
   "file_extension": ".py",
   "mimetype": "text/x-python",
   "name": "python",
   "nbconvert_exporter": "python",
   "pygments_lexer": "ipython3",
   "version": "3.5.5"
  }
 },
 "nbformat": 4,
 "nbformat_minor": 2
}
