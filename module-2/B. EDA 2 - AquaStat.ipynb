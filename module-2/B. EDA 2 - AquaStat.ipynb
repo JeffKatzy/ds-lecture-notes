{
 "cells": [
  {
   "cell_type": "markdown",
   "metadata": {},
   "source": [
    "* Chloe, business\n",
    "1. Is water availability related to GDP use per capita\n",
    "\n",
    "A. Develop investigation themes \n",
    "    * fao.org/nr/water/aquastat/data/query/index.html\n",
    "    \n",
    "   1. First steps \n",
    "       * Understand what the definition are \n",
    "       * So what are some themes or thoughts that want to explore \n",
    "   2. Perspectives - and ways to look at the data \n",
    "        * Cross-section: all countries during a single time period\n",
    "        * Time-series: a single country over time \n",
    "        * Panel data: all countries over time (as data is given)\n",
    "        * Geospatial: all countries in geographical relation to each other "
   ]
  },
  {
   "cell_type": "markdown",
   "metadata": {},
   "source": [
    "A. Wrangle data "
   ]
  }
 ],
 "metadata": {
  "kernelspec": {
   "display_name": "Python 3",
   "language": "python",
   "name": "python3"
  },
  "language_info": {
   "codemirror_mode": {
    "name": "ipython",
    "version": 3
   },
   "file_extension": ".py",
   "mimetype": "text/x-python",
   "name": "python",
   "nbconvert_exporter": "python",
   "pygments_lexer": "ipython3",
   "version": "3.5.5"
  }
 },
 "nbformat": 4,
 "nbformat_minor": 2
}
