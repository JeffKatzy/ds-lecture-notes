{
 "cells": [
  {
   "cell_type": "markdown",
   "metadata": {},
   "source": [
    "### From discrete to continuous\n",
    "\n",
    "Problem with discrete is that it's hard to employ something like the max likelihood function, because cannot take derivative of something that's discrete.\n",
    "\n",
    "* So for continuous, have uncountable infinite values.  \n",
    "* Usually represent measurements: eg. height, weight, time\n",
    "\n",
    "So it's a difference between how many and how much.  So if say how many customers - then this is discrete.  But how much is continuous - how much money.\n",
    "\n",
    "So generally, we want to replace the $\\sum$ with integrals."
   ]
  },
  {
   "cell_type": "markdown",
   "metadata": {},
   "source": [
    "So a variable X is a **continuous random variable** if there is a function that is greater than 0, where the P of random varibale being between a to b, is the integral between a and b.  We call this a probability density function.\n",
    "\n",
    "And the integral from negative infinity to positive infinity is one.\n",
    "\n"
   ]
  },
  {
   "cell_type": "markdown",
   "metadata": {},
   "source": [
    "* Note f(x) is not a probability.  It's a probability per unity of x.\n",
    "$P(X = a) = \\int^a_a f(x) dx= 0$\n",
    "\n",
    "* Contrast with in the discrete case where all the time we were asking the probability equals a particular value."
   ]
  },
  {
   "cell_type": "markdown",
   "metadata": {},
   "source": [
    "### cumulative density function \n",
    "\n",
    "$CDF = P(X < a) = \\int_a^a f(x) dx$\n",
    "\n",
    "So now what we do, is just add an epsilon, so that it's non-zero.  So now we can say P(X = 1)/P(X = 2) = f(1)/f(2)"
   ]
  },
  {
   "cell_type": "markdown",
   "metadata": {},
   "source": [
    "> An example \n",
    "\n",
    "X is a continuous random variable with a PDF, \n",
    "\n",
    "* $f(x) = C(4x - 2x^2)$  when x between 0 and 2\n",
    "* otherwise 0 \n",
    "\n",
    "> The range when it takes on non-zero values, we call the support range\n",
    "\n",
    "> Question: What is C?  Well we can integrate, the integral over the probability density should = 1.  \n",
    "\n",
    "* So $\\int^2_0 C(4x - 2x^2) dx = 1$\n",
    "* So $C(2x^2 - 2x^3/3) dx = 1$\n",
    "\n",
    "So now that we know what C is, we can plot it."
   ]
  },
  {
   "cell_type": "markdown",
   "metadata": {},
   "source": [
    "### Expectation and variance\n",
    "\n",
    "For a continuous random variable X: \n",
    "\n",
    "$ E[X] = \\int_{- \\infty}^{\\infty} x f(x) dx$\n",
    "So it tells you how likely is this value of x in the discrete world.  \n",
    "\n",
    "* Remember that for expectation you can picture it by just taking the balancing point.\n",
    "\n",
    "Also, we see that \n",
    "\n",
    "$ E[g(X)] = \\int_{- \\infty}^{\\infty} g(x) f(x) dx$\n",
    "\n",
    "**Variance** \n",
    "* Remember that variance is the spread of the random variable aroudn the mean.  \n",
    "$Var(X) = E[(X - u)^2] = E[X^2] - (E[X])^2 $\n",
    "\n",
    "Note that with a PDF, we can have a specific value that is greater than one.  But this was impossible in the discrete case. "
   ]
  },
  {
   "cell_type": "markdown",
   "metadata": {},
   "source": [
    "> Example \n",
    "\n",
    "f(x) = 2x where x between 0 and 1\n",
    "\n",
    "So then $E[x] = \\int_{- \\infty}^{\\infty} xf(x)dx = \\int_{- \\infty}^{\\infty} x2x = 2x^3/3 = 2/3$\n",
    "\n",
    "And variance is $E[x^2] - (E[X])^2$\n",
    "\n",
    "So then $E[x^2] = \\int_{- \\infty}^{\\infty} x^2f(x) = \\int_{- \\infty}^{\\infty} x^2*2x$\n",
    "\n",
    "And $E[X]^2 = (2/3)^2$\n",
    "\n",
    "So Var(x) = 1/2 - 4/9 = 1/18\n",
    "\n",
    "And when take the sqrt we get our SD"
   ]
  },
  {
   "cell_type": "markdown",
   "metadata": {},
   "source": [
    "> Example \n",
    "\n",
    "If give you f(x) = 2x for x between 0 and 1\n",
    "\n",
    "What is P(X > .5) = .75"
   ]
  }
 ],
 "metadata": {
  "kernelspec": {
   "display_name": "Python 3",
   "language": "python",
   "name": "python3"
  },
  "language_info": {
   "codemirror_mode": {
    "name": "ipython",
    "version": 3
   },
   "file_extension": ".py",
   "mimetype": "text/x-python",
   "name": "python",
   "nbconvert_exporter": "python",
   "pygments_lexer": "ipython3",
   "version": "3.5.5"
  }
 },
 "nbformat": 4,
 "nbformat_minor": 2
}
