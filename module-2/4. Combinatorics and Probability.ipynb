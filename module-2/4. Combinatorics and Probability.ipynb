{
 "cells": [
  {
   "cell_type": "markdown",
   "metadata": {},
   "source": [
    "### Rule of probability"
   ]
  },
  {
   "cell_type": "markdown",
   "metadata": {},
   "source": [
    "Assume want to know the probability of exactly three heads. \n",
    "\n",
    "number of outcomes we care about/total outcomes"
   ]
  },
  {
   "cell_type": "markdown",
   "metadata": {},
   "source": [
    "1. Calculate outcomes we care about \n",
    "\n",
    "How many different ways of 8 can we choose 3 to be successful.  \n",
    "\n",
    "8 choose 3 to be successful.  And then have 8!/3!5!\n",
    "\n",
    "2. Calculate number of outcomes\n",
    "\n",
    "Total number of outcomes is 2^8\n",
    "\n",
    "3. Divide the two of these\n",
    "\n",
    "7/32 = 0.21875"
   ]
  },
  {
   "cell_type": "markdown",
   "metadata": {},
   "source": [
    "Or in general for a coin flip problem it's n!/k!(n - k)! /2^n \n",
    "\n",
    "And note for a three sided coin would be 3^n."
   ]
  },
  {
   "cell_type": "markdown",
   "metadata": {},
   "source": [
    "### Different technique\n",
    "1. Probability an event we can about happening \n",
    "2. Calculate outcomes we care about \n",
    "How many different ways of 8 can we choose 3 to be successful.  \n",
    "3. Multiply these two"
   ]
  },
  {
   "cell_type": "markdown",
   "metadata": {},
   "source": [
    "(.5)(.5)(.5)*(.5)(.5)(.5)(.5)(.5)"
   ]
  },
  {
   "cell_type": "code",
   "execution_count": 11,
   "metadata": {
    "scrolled": true
   },
   "outputs": [
    {
     "data": {
      "text/plain": [
       "0.00390625"
      ]
     },
     "execution_count": 11,
     "metadata": {},
     "output_type": "execute_result"
    }
   ],
   "source": [
    ".5**8"
   ]
  },
  {
   "cell_type": "code",
   "execution_count": 12,
   "metadata": {},
   "outputs": [
    {
     "data": {
      "text/plain": [
       "56.0"
      ]
     },
     "execution_count": 12,
     "metadata": {},
     "output_type": "execute_result"
    }
   ],
   "source": [
    "import math\n",
    "math.factorial(8)\n",
    "\n",
    "math.factorial(5)\n",
    "\n",
    "40320/720"
   ]
  },
  {
   "cell_type": "code",
   "execution_count": 9,
   "metadata": {},
   "outputs": [
    {
     "data": {
      "text/plain": [
       "0.21875"
      ]
     },
     "execution_count": 9,
     "metadata": {},
     "output_type": "execute_result"
    }
   ],
   "source": [
    "56.0*0.00390625"
   ]
  },
  {
   "cell_type": "markdown",
   "metadata": {},
   "source": [
    "Notice that we get the same both ways."
   ]
  },
  {
   "cell_type": "markdown",
   "metadata": {},
   "source": [
    "### Now can move onto unequal probabilities \n",
    "\n"
   ]
  }
 ],
 "metadata": {
  "kernelspec": {
   "display_name": "Python 3",
   "language": "python",
   "name": "python3"
  },
  "language_info": {
   "codemirror_mode": {
    "name": "ipython",
    "version": 3
   },
   "file_extension": ".py",
   "mimetype": "text/x-python",
   "name": "python",
   "nbconvert_exporter": "python",
   "pygments_lexer": "ipython3",
   "version": "3.5.5"
  }
 },
 "nbformat": 4,
 "nbformat_minor": 2
}
