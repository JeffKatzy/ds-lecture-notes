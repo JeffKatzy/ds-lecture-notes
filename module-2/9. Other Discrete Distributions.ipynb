{
 "cells": [
  {
   "cell_type": "markdown",
   "metadata": {},
   "source": [
    "### Random Variables\n",
    "\n",
    "So random variables are a parameterization of things that occur often in nature, or in mathematics.  \n",
    "\n"
   ]
  },
  {
   "cell_type": "markdown",
   "metadata": {},
   "source": [
    "### Poisson\n",
    "\n",
    "* [Read this first](https://www.umass.edu/wsp/resources/poisson/index.html#binomial)\n",
    "* So then the probability of something corrupted is smaller, because it doesn't have to go through all of space.  So we get $Bin(10^4, 10^-6)$, (so n is really large and probability is really small).  The problem is that these become unwieldy.  \n",
    "\n",
    "$ P(X = i) = \\frac{n!}{i!(n - i)!}p^i(1-p)^{n - i}$ \n",
    "\n",
    "Applications:\n",
    "1. Number of visitors to a popular website, and number of errors\n",
    "2. \n",
    "\n",
    "If n is sufficiently large and p is sufficiently small, you don't have to parameterize it by n and p anymore.  Instead we parameterize it by lambda, which is what we define to be $n*p$.  \n",
    "\n",
    "So now all that matters is how n is related to p, the ratio.  \n",
    "\n",
    "> Example so if send a bit of length n = 10^4, and p = 10^-6, then X ~ Poi(n * p ) = Poi(.01). \n",
    "\n",
    "\n",
    "**Awesome example** \n",
    "So if X varies as a Poisson, and X varies with the data of 8.5, then what is the probability of there being 15 hurricanes in a year.\n",
    "\n",
    "So then probability of there being 15 in a year, and then can ask what is the probability of this happening.  Assuming that the Poisson stays the same.  So the probability of two of these happening is 2 in one billion.  So then data since 1966 looks like it is going up over time.  \n",
    "\n",
    "> See chris piech exploreHurricanes.py"
   ]
  },
  {
   "cell_type": "markdown",
   "metadata": {},
   "source": [
    "### Geometric random variable \n",
    "\n",
    "So maybe what's the probability until a unit of time, when the data becomes corrupted.\n",
    "\n",
    "Number of independent trials until the first success. \n",
    "\n",
    "* p is probability of success on each trial.  And X takes on values of 1, 2, 3 with probability: \n",
    "\n",
    "$ P(X = n) = (1 - p)^{n -1} p $\n",
    "* E[x] = 1/p\n",
    "* $Var(x) = (1 - p)/p^2$\n",
    "\n",
    "Note that there is no $n \\choose p$ and this is because there is really only one variation of having all failures followed by a success."
   ]
  },
  {
   "cell_type": "markdown",
   "metadata": {},
   "source": [
    "### negative binomial\n",
    "\n",
    "Number of failures until r successes."
   ]
  },
  {
   "cell_type": "markdown",
   "metadata": {},
   "source": [
    "### Hypergeometric\n",
    "If you have an urn with n balls.  What is the number of white balls drawn from urn with n balls, m are white.  \n",
    "\n",
    "    - Can think of hypergeometric of Hyp(n, N, m) -> Bin(n, m/N)\n",
    "    - So p = m/n => probability of drawing a white ball on the first draw\n",
    "    - Note that in binomial we draw with replacement, but with hypergeometric we do not.  Still as N approaches infinity the non-replacement becomes less relevant\n",
    "\n",
    "> Example: Berguis v Smith.  If we have a jury pool, how can we tell if the jury pool is biased.  \n",
    "\n",
    "Justice Breyer, and then you select 12000.  Then you would expect that 1/3 to 1/2 would have at least one minority person.\n",
    "\n",
    "Problems with Breyer: \n",
    "\n",
    "1. It's a hypergeometric.  Bc once you select someone, you don't replace him back into the population.  \n",
    "\n",
    "So probability is $ \\frac{940 \\choose 12}{1000 \\choose 12} = .47$  So then probability of at least one minority is .5261.  \n",
    "\n",
    "So now if we wrongly used the binomial: \n",
    "\n",
    "Then we do Binomial where choose 12, and none are a minority.  Also equals, .94^12 = .47, and then 1 - .47.  So binomial very close to hypergeometric when N gets large."
   ]
  },
  {
   "cell_type": "markdown",
   "metadata": {},
   "source": [
    "2. Other example \n",
    "\n",
    "Determine N = how many species remain \n",
    "randomly tag m species \n",
    "Then observe another n of the species \n",
    "\n",
    "X = number of tagged animals in observed group n \n",
    "\n",
    "X = HypG(n, N, m)\n",
    "\n",
    "Why is this difficult?\n",
    "\n",
    "1. We don't know big N - this is the size of species in our population\n",
    "2. So now our world is an urn, and we tag m of these white and N -m non-white.  So then we draw n things out of our urn.  And X is the number of tagged animals that we got out.  \n",
    "\n",
    "So here we are given X, and need to solve for N.  \n",
    "So we can solve by choosing a parameter N, that maximizes the likelihood of what we have seen.  \n",
    "* So one way of figuring this out is to just try different values of N.\n",
    "* Or can assume that number of animals we saw is the E[x], and from hypergeometric, $E[x] = nm/N$\n",
    "\n",
    "So now we choose a value, that maximizes a function.  "
   ]
  },
  {
   "cell_type": "markdown",
   "metadata": {},
   "source": [
    "### discrete distributions\n",
    "A. With a distribution, you generally get four things: \n",
    "* Parameters, \n",
    "* probability mass functions\n",
    " - what is the probability of your random variable taking on a particular value\n",
    "* expectation,\n",
    "* and variance.\n",
    "\n",
    "\n",
    "1. Bernoulli \n",
    "* Indicator of coin flip, Ber(p).  So x is a bernoulli random variable if it can take on 1 or 0 and have a 1 with probability p.  \n",
    "\n",
    "2. Binomial \n",
    "So now have n trials, each occur with probability p.  So now what is the expected number of successes.  And what is the probality of each number of successes.\n",
    "\n",
    "3. Poisson\n",
    "Also the number of successes in n coin flips.  \n",
    "Binomial approximator where n is large and p is small.  And we can define it in terms of a rate, n *p.  So how many successes expect to get within a time period.  \n",
    "Poi(lambda) \n",
    "\n",
    "4. Geometric\n",
    "Number of attempts until success Geo(p)\n",
    "\n",
    "5. Negative binomial\n",
    "is # of trials until r successes NegBinomial\n",
    "\n",
    "6. Hypergeometric\n",
    "If you have an urn with n balls.  What is the number of white balls drawn from urn with n balls, m are white.  \n",
    "\n",
    "    - Can think of hypergeometric of Hyp(n, N, m) -> Bin(n, m/N)\n",
    "    - So p = m/n => probability of drawing a white ball on the first draw\n",
    "    - Note that in binomial we draw with replacement, but with hypergeometric we do not.  Still as N approaches infinity the non-replacement becomes less relevant\n",
    "\n",
    "> Example: Berguis v Smith.  If we have a jury pool, how can we tell if the jury pool is biased.  "
   ]
  },
  {
   "cell_type": "code",
   "execution_count": null,
   "metadata": {},
   "outputs": [],
   "source": []
  }
 ],
 "metadata": {
  "kernelspec": {
   "display_name": "Python 3",
   "language": "python",
   "name": "python3"
  },
  "language_info": {
   "codemirror_mode": {
    "name": "ipython",
    "version": 3
   },
   "file_extension": ".py",
   "mimetype": "text/x-python",
   "name": "python",
   "nbconvert_exporter": "python",
   "pygments_lexer": "ipython3",
   "version": "3.5.5"
  }
 },
 "nbformat": 4,
 "nbformat_minor": 2
}
