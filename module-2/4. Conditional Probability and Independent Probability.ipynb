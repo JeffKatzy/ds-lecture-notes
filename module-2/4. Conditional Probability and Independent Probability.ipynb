{
 "cells": [
  {
   "cell_type": "markdown",
   "metadata": {},
   "source": [
    "## Two way tables"
   ]
  },
  {
   "cell_type": "markdown",
   "metadata": {},
   "source": [
    "### Conditional Probability \n",
    "\n",
    "P(E|F) = P(EF)/P(F)\n",
    "\n",
    "Chain rule \n",
    "\n",
    "P(EF) = P(E|F)*P(F)\n",
    "\n",
    "General version of the chain rule \n",
    "\n",
    "P(E1, E2,) = P(E1)*P(E2|E1)*..."
   ]
  },
  {
   "cell_type": "markdown",
   "metadata": {},
   "source": [
    "1. Introducing Two Way tables"
   ]
  },
  {
   "cell_type": "markdown",
   "metadata": {},
   "source": [
    "![](./resources/two-way.png)"
   ]
  },
  {
   "cell_type": "markdown",
   "metadata": {},
   "source": [
    "Remember that with the fundamental rules of probability can then begin to fill these out."
   ]
  },
  {
   "cell_type": "markdown",
   "metadata": {},
   "source": [
    "![](./resources/example-two-way.png)"
   ]
  },
  {
   "cell_type": "markdown",
   "metadata": {},
   "source": [
    "### Conditional Probability"
   ]
  },
  {
   "cell_type": "markdown",
   "metadata": {},
   "source": [
    "What is the chance of an event E happening, given I have already observed another event F.\n",
    "\n",
    "**Importance** This is a greatest hit of probability because it allows us to update our beliefs"
   ]
  },
  {
   "cell_type": "markdown",
   "metadata": {},
   "source": [
    "P(E | F)\n",
    "\n",
    "* We do this by taking our sample space and narrowing it down to the sets of things in F\n"
   ]
  },
  {
   "cell_type": "markdown",
   "metadata": {},
   "source": [
    "Now with conditional probability, we are essentially focusing on a row or a column."
   ]
  },
  {
   "cell_type": "markdown",
   "metadata": {},
   "source": [
    "Suppose $(\\Omega, P)$ is a probability space and A is an event such that $P(A) \\neq 0$.  Let B be another event.  We define conditional probability of B given A, by: \n",
    "\n",
    "$$\n",
    "P(B|A) = \\frac{P(A \\cap B)}{P(A)}\n",
    "$$\n",
    "\n",
    "From here we can get to chain rule by multiplying equation by P(A), so then \n",
    "\n",
    "$$\n",
    "P(EF) = P(E|F)P(F)\n",
    "$$\n",
    "\n",
    "\n",
    "    * The chain rule states that the probability of observing events E and F is the probability of observing F, times the probability of observing E given that we observed F. "
   ]
  },
  {
   "cell_type": "markdown",
   "metadata": {},
   "source": [
    "### Examples"
   ]
  },
  {
   "cell_type": "markdown",
   "metadata": {},
   "source": [
    "1. What is the probability of two dice summing to four, given the first die is 2.\n",
    "\n",
    "Then it's 1/6"
   ]
  },
  {
   "cell_type": "markdown",
   "metadata": {},
   "source": [
    "Eg. Ted and Alice have two children.  Given they have a boy.  What is the probability they have two boys?\n",
    "\n",
    "$$\n",
    "P(B|A) = \\frac{P(A \\cap B)}{P(A)} $$\n",
    "\n",
    "$ = \\frac{1/4}{3/4} = 1/3$"
   ]
  },
  {
   "cell_type": "markdown",
   "metadata": {},
   "source": [
    "> A useful tip is to name the probabilities.  What is P(A) and what is P(B)?"
   ]
  },
  {
   "cell_type": "markdown",
   "metadata": {},
   "source": [
    "2. Spam problem [video](https://www.youtube.com/watch?v=wB0z0nQebNc&index=3&list=PLcmJYc2muOR9H96hGlUBV2DkviVZFmHAh)\n",
    "\n",
    "(Perhaps can take the spam problem and apply it to advertising?  Perhaps instead of spam it's simply relevant and not relevant emails).\n",
    "\n",
    "24 emails are each sent to four users, 6 emails for each user.  Ten of the emails are spam.\n",
    "\n",
    "What's the probability that a user receives 3 spam emails.  \n",
    "\n",
    "$$P(E) = (10 C 3)(14 C 3)/(24 C 6)$$\n",
    "\n",
    "Numerator - is with product rule of counting.\n",
    "\n",
    "Now let's add a honey pot email address...so given that the honey pot gets six of the spam emails, what is the probability the non-honeypot gets a spam email.  \n",
    "\n",
    "\n",
    "So now what is P(E | F)"
   ]
  },
  {
   "cell_type": "markdown",
   "metadata": {},
   "source": [
    "3. Practice with the chain rule [video](https://www.youtube.com/watch?v=wB0z0nQebNc&index=3&list=PLcmJYc2muOR9H96hGlUBV2DkviVZFmHAh)\n",
    "\n",
    "Card piles problem, what is the probability that with four piles, there is an ace of spades in each pile.\n",
    "\n",
    "P(A & B & C & D) = P(A) * P(B|A) * P(C | A & B) * P(D | A & B & C)\n",
    "\n",
    "\n"
   ]
  },
  {
   "cell_type": "markdown",
   "metadata": {},
   "source": [
    "4. Conditional Probability with netflix"
   ]
  },
  {
   "cell_type": "markdown",
   "metadata": {},
   "source": [
    "A. What is the probability that someone likes jurrassic park\n",
    "P(E) = # who watched/ # who liked\n",
    "\n",
    "B. But we want to know the probability that you liked the movie \n",
    "\n",
    "(% who liked JP and the matrix)/(% who liked JP)\n",
    "\n",
    "So now we update the probabilities of all of the rest of these movies.\n",
    "\n",
    "> **Problem with this** is that you like a lot of movies..and if see your entire combination of movies you liked then there are not a lot of people with that combination of movies...so will need to alter this\n",
    "\n",
    "> Can apply this to the Netflix problem.  Given that someone has watched one The Matrix, what is the probability that they will watch Jurasic Park.  \n",
    "\n",
    "> Perhaps can provide them with a dataset, and ensure they are trying to gather the correct data.  P(A) = Watching the Matrix.  P(A & B) = P(Watching Matrix and Jurrassic Park).   \n",
    "\n",
    "> * Then also can do this with watching and liking Jurrassic Park.  \n",
    "\n",
    "P(E|F) = P(EF)/P(F) = \n",
    "$\\frac{\\frac{people who liked both}{people who watched both}}{\\frac{people who liked amelie}{people who watched amelie}}$\n"
   ]
  },
  {
   "cell_type": "markdown",
   "metadata": {},
   "source": [
    "### Bayes formula\n",
    "\n",
    "1. Why bayes.  So far we have \n",
    "\n",
    "\n",
    "$P(F|E) = \\frac{P(EF)}{P(E)}$\n",
    "$= \\frac{P(E|F)P(F)}{P(E)} $\n",
    "\n",
    "If have two events E and F in sample space S.  Then can think of E as two parts: \n",
    "\n",
    "1. $E \\cap F$ (intersection)\n",
    "2. $E \\cap F^c$\n",
    "\n",
    "So if you take the "
   ]
  },
  {
   "cell_type": "markdown",
   "metadata": {},
   "source": [
    "### Malaria and conditional independence\n",
    "\n",
    "Population 10,000 people: \n",
    "\n",
    "Of those, 300 have malaria (M) and 200 have bacterial infection.  6 people have both.  \n",
    "\n",
    "Fever IFF Malaria or Bacteria.\n",
    "\n",
    "A. Are M and B independent?  \n",
    "\n",
    "P(A)* P(B) = 3/100 * 2/100 = 6/10,000\n",
    "\n",
    "Yes.\n",
    "\n",
    "B. Now are M and B independent given F.\n",
    "\n",
    "$P(M|Fever) \\neq P(M|Fever, B)$, so not conditionally independent.\n",
    "\n",
    "Then he shows this example with dots."
   ]
  },
  {
   "cell_type": "markdown",
   "metadata": {},
   "source": [
    "### Independent Events"
   ]
  },
  {
   "cell_type": "markdown",
   "metadata": {},
   "source": [
    "> *Why important to know about independence: \n",
    "\n",
    "> An economist analyzing factors that led to the Great Recession finds that many companies that speculated on mortgage-backed securities believed that the mortgage-backed securities were safe investments, and the probability of a default (failure or refusal to pay the mortgage) on any one of them was reasonably small, so the probability of a massive default was extremely small. Which of the following is the most major flaw in this line of thought?\n",
    "\n",
    "> Problem is that the probabilities were not independent.  So cannot simply multiply these numbers together.\n",
    "\n",
    "> 2. Also think about modeling a funnel.  What's the probability a student enrolls in Flatiron School?"
   ]
  },
  {
   "cell_type": "markdown",
   "metadata": {},
   "source": [
    "Definition. Suppose (Ω, P) is a probability space and A and B are events. We say A and\n",
    "B are independent if \n",
    "\n",
    "$$\n",
    "P(A \\cap B) = P(A)P(B)\n",
    "$$"
   ]
  },
  {
   "cell_type": "markdown",
   "metadata": {},
   "source": [
    "Note also that independence means that P(A) = P(A|B) and P(B) = P(B|A)"
   ]
  },
  {
   "cell_type": "markdown",
   "metadata": {},
   "source": [
    "|               | $B$           | $B^c$            |\n",
    "| ------------- |:-------------:| -----:|\n",
    "| $A$           | $P(A \\cap B)$  |$P(A \\cap B^ c)$ |\n",
    "| $A^c$         | $P(A^c \\cap B)$ |   $P(A^c \\cap B^ c)$ |"
   ]
  },
  {
   "cell_type": "markdown",
   "metadata": {},
   "source": [
    "Answer the question of whether the events are independent.\n",
    "\n",
    "Note that an event is independent if knowing the outcome of the first event provides no additional information about the other event.\n",
    "\n",
    "Can also see with a two way table: \n",
    "\n",
    "![](./two_way.png)\n",
    "\n",
    "So these two events are not indepdendent because knowing something about the first tells you something about the second."
   ]
  },
  {
   "cell_type": "markdown",
   "metadata": {},
   "source": [
    "### Resources\n",
    "\n",
    "https://www.math.lsu.edu/~madden/M3355spr2011/Lecture-5.pdf\n",
    "https://web.stanford.edu/class/archive/cs/cs109/cs109.1166//pdfs/07%20CondProbability.pdf"
   ]
  }
 ],
 "metadata": {
  "kernelspec": {
   "display_name": "Python 3",
   "language": "python",
   "name": "python3"
  },
  "language_info": {
   "codemirror_mode": {
    "name": "ipython",
    "version": 3
   },
   "file_extension": ".py",
   "mimetype": "text/x-python",
   "name": "python",
   "nbconvert_exporter": "python",
   "pygments_lexer": "ipython3",
   "version": "3.5.5"
  }
 },
 "nbformat": 4,
 "nbformat_minor": 2
}
