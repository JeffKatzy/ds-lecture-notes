{
 "cells": [
  {
   "cell_type": "markdown",
   "metadata": {},
   "source": [
    "## Two way tables"
   ]
  },
  {
   "cell_type": "markdown",
   "metadata": {},
   "source": [
    "1. Introducing Two Way tables"
   ]
  },
  {
   "cell_type": "markdown",
   "metadata": {},
   "source": [
    "![](./resources/two-way.png)"
   ]
  },
  {
   "cell_type": "markdown",
   "metadata": {},
   "source": [
    "Remember that with the fundamental rules of probability can then begin to fill these out."
   ]
  },
  {
   "cell_type": "markdown",
   "metadata": {},
   "source": [
    "![](./resources/example-two-way.png)"
   ]
  },
  {
   "cell_type": "markdown",
   "metadata": {},
   "source": [
    "### Conditional Probability"
   ]
  },
  {
   "cell_type": "markdown",
   "metadata": {},
   "source": [
    "What is the chance of an event E happening, given I have already observed another event F."
   ]
  },
  {
   "cell_type": "markdown",
   "metadata": {},
   "source": [
    "Now with conditional probability, we are essentially focusing on a row or a column."
   ]
  },
  {
   "cell_type": "markdown",
   "metadata": {},
   "source": [
    "Suppose $(\\Omega, P)$ is a probability space and A is an event such that $P(A) \\neq 0$.  Let B be another event.  We define conditional probability of B given A, by: \n",
    "\n",
    "$$\n",
    "P(B|A) = \\frac{P(A \\cap B)}{P(A)}\n",
    "$$"
   ]
  },
  {
   "cell_type": "markdown",
   "metadata": {},
   "source": [
    "Eg. Ted and Alice have two children.  Given they have a boy.  What is the probability they have two boys?\n",
    "\n",
    "$$\n",
    "P(B|A) = \\frac{P(A \\cap B)}{P(A)} $$\n",
    "\n",
    "$ = \\frac{1/4}{3/4} = 1/3$"
   ]
  },
  {
   "cell_type": "markdown",
   "metadata": {},
   "source": [
    "> A useful tip is to name the probabilities.  What is P(A) and what is P(B)?"
   ]
  },
  {
   "cell_type": "markdown",
   "metadata": {},
   "source": [
    "> Can apply this to the Netflix problem.  Given that someone has watched one The Matrix, what is the probability that they will watch Jurasic Park.  \n",
    "\n",
    "> Perhaps can provide them with a dataset, and ensure they are trying to gather the correct data.  P(A) = Watching the Matrix.  P(A & B) = P(Watching Matrix and Jurrassic Park).   \n",
    "\n",
    "> * Then also can do this with watching and liking Jurrassic Park.  \n",
    "\n",
    "P(E|F) = P(EF)/P(F) = \n",
    "$\\frac{\\frac{people who liked both}{people who watched both}}{\\frac{people who liked amelie}{people who watched amelie}}$\n"
   ]
  },
  {
   "cell_type": "markdown",
   "metadata": {},
   "source": [
    "2. The chain rule"
   ]
  },
  {
   "cell_type": "markdown",
   "metadata": {},
   "source": [
    "* $P(EF) = P(E | F) P(F)$ \n",
    "    * States that the probability of observing events E and F is the probability of observing F, times the probability of observing E given that we observed F. "
   ]
  },
  {
   "cell_type": "markdown",
   "metadata": {},
   "source": [
    "### Independent Events"
   ]
  },
  {
   "cell_type": "markdown",
   "metadata": {},
   "source": [
    "Definition. Suppose (Ω, P) is a probability space and A and B are events. We say A and\n",
    "B are independent if \n",
    "\n",
    "$$\n",
    "P(A \\cap B) = P(A)P(B)\n",
    "$$"
   ]
  },
  {
   "cell_type": "markdown",
   "metadata": {},
   "source": [
    "|               | $B$           | $B^c$            |\n",
    "| ------------- |:-------------:| -----:|\n",
    "| $A$           | $P(A \\cap B)$  |$P(A \\cap B^ c)$ |\n",
    "| $A^c$         | $P(A^c \\cap B)$ |   $P(A^c \\cap B^ c)$ |"
   ]
  },
  {
   "cell_type": "markdown",
   "metadata": {},
   "source": [
    "Answer the question of whether the events are independent."
   ]
  },
  {
   "cell_type": "markdown",
   "metadata": {},
   "source": [
    "### Resources\n",
    "\n",
    "https://www.math.lsu.edu/~madden/M3355spr2011/Lecture-5.pdf\n",
    "https://web.stanford.edu/class/archive/cs/cs109/cs109.1166//pdfs/07%20CondProbability.pdf"
   ]
  }
 ],
 "metadata": {
  "kernelspec": {
   "display_name": "Python 3",
   "language": "python",
   "name": "python3"
  },
  "language_info": {
   "codemirror_mode": {
    "name": "ipython",
    "version": 3
   },
   "file_extension": ".py",
   "mimetype": "text/x-python",
   "name": "python",
   "nbconvert_exporter": "python",
   "pygments_lexer": "ipython3",
   "version": "3.5.5"
  }
 },
 "nbformat": 4,
 "nbformat_minor": 2
}
