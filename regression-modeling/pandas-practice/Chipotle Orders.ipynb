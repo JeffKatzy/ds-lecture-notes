{
 "cells": [
  {
   "cell_type": "markdown",
   "metadata": {},
   "source": [
    "### Reading data and initial exploration"
   ]
  },
  {
   "cell_type": "code",
   "execution_count": 1,
   "metadata": {},
   "outputs": [],
   "source": [
    "import pandas as pd"
   ]
  },
  {
   "cell_type": "code",
   "execution_count": 2,
   "metadata": {},
   "outputs": [],
   "source": [
    "url = 'http://bit.ly/movieusers'\n",
    "ufo = pd.read_table(url, sep=\",\")"
   ]
  },
  {
   "cell_type": "code",
   "execution_count": 16,
   "metadata": {},
   "outputs": [],
   "source": [
    "ufo.shape"
   ]
  },
  {
   "cell_type": "code",
   "execution_count": null,
   "metadata": {},
   "outputs": [],
   "source": [
    "ufo.head()"
   ]
  },
  {
   "cell_type": "code",
   "execution_count": null,
   "metadata": {},
   "outputs": [],
   "source": [
    "ufo.dtypes"
   ]
  },
  {
   "cell_type": "code",
   "execution_count": 21,
   "metadata": {},
   "outputs": [
    {
     "data": {
      "text/plain": [
       "Index(['City', 'Colors Reported', 'Shape Reported', 'State', 'Time'], dtype='object')"
      ]
     },
     "execution_count": 21,
     "metadata": {},
     "output_type": "execute_result"
    }
   ],
   "source": [
    "ufo.columns"
   ]
  },
  {
   "cell_type": "markdown",
   "metadata": {},
   "source": [
    "#### Changing the initial structure "
   ]
  },
  {
   "cell_type": "code",
   "execution_count": 33,
   "metadata": {},
   "outputs": [],
   "source": [
    "users = pd.read_table(url2, sep=\"|\", header=None, names=[\"age\", \"gender\", \"occupation\", \"zip\"])"
   ]
  },
  {
   "cell_type": "code",
   "execution_count": 39,
   "metadata": {},
   "outputs": [],
   "source": [
    "ufo.rename(columns = {'Colors Reported': 'colors_reported', 'Shape Reported': 'shape_reported'}, inplace=True)"
   ]
  },
  {
   "cell_type": "code",
   "execution_count": 40,
   "metadata": {},
   "outputs": [
    {
     "data": {
      "text/plain": [
       "Index(['City', 'colors_reported', 'shape_reported', 'State', 'Time',\n",
       "       'Location'],\n",
       "      dtype='object')"
      ]
     },
     "execution_count": 40,
     "metadata": {},
     "output_type": "execute_result"
    }
   ],
   "source": [
    "ufo.columns"
   ]
  },
  {
   "cell_type": "code",
   "execution_count": 42,
   "metadata": {},
   "outputs": [],
   "source": [
    "ufo.columns = ['City', 'colors_reported', 'shape_reported', 'State', 'Time',\n",
    "       'Location']"
   ]
  },
  {
   "cell_type": "code",
   "execution_count": null,
   "metadata": {
    "scrolled": true
   },
   "outputs": [],
   "source": [
    "ufo.drop('colors_reported', axis=1)"
   ]
  },
  {
   "cell_type": "markdown",
   "metadata": {},
   "source": [
    "### Working with series"
   ]
  },
  {
   "cell_type": "markdown",
   "metadata": {},
   "source": [
    "#### Reading a series"
   ]
  },
  {
   "cell_type": "code",
   "execution_count": null,
   "metadata": {},
   "outputs": [],
   "source": [
    "ufo.City"
   ]
  },
  {
   "cell_type": "code",
   "execution_count": null,
   "metadata": {},
   "outputs": [],
   "source": [
    "ufo['City']"
   ]
  },
  {
   "cell_type": "markdown",
   "metadata": {},
   "source": [
    "#### Creating a new series"
   ]
  },
  {
   "cell_type": "code",
   "execution_count": 26,
   "metadata": {},
   "outputs": [],
   "source": [
    "ufo['Location'] = ufo.City + ', ' + ufo.State"
   ]
  },
  {
   "cell_type": "code",
   "execution_count": null,
   "metadata": {},
   "outputs": [],
   "source": [
    "ufo.loc[:5]"
   ]
  },
  {
   "cell_type": "markdown",
   "metadata": {},
   "source": [
    "### String methods and changing types"
   ]
  },
  {
   "cell_type": "code",
   "execution_count": 81,
   "metadata": {},
   "outputs": [],
   "source": [
    "url = 'http://bit.ly/chiporders'\n",
    "orders = pd.read_table(url)"
   ]
  },
  {
   "cell_type": "code",
   "execution_count": 82,
   "metadata": {},
   "outputs": [],
   "source": [
    "orders.item_price = orders.item_price.str.replace('$', '')\n",
    "orders.item_price = orders.item_price.astype('float')"
   ]
  },
  {
   "cell_type": "markdown",
   "metadata": {},
   "source": [
    "## SQL Methods in Pandas"
   ]
  },
  {
   "cell_type": "markdown",
   "metadata": {},
   "source": [
    "### Selecting Columns"
   ]
  },
  {
   "cell_type": "code",
   "execution_count": 93,
   "metadata": {},
   "outputs": [
    {
     "data": {
      "text/plain": [
       "Index(['order_id', 'quantity', 'item_name', 'choice_description',\n",
       "       'item_price'],\n",
       "      dtype='object')"
      ]
     },
     "execution_count": 93,
     "metadata": {},
     "output_type": "execute_result"
    }
   ],
   "source": [
    "orders.columns"
   ]
  },
  {
   "cell_type": "code",
   "execution_count": null,
   "metadata": {
    "scrolled": true
   },
   "outputs": [],
   "source": [
    "orders[['item_price', 'quantity']]"
   ]
  },
  {
   "cell_type": "code",
   "execution_count": 104,
   "metadata": {},
   "outputs": [
    {
     "data": {
      "text/html": [
       "<div>\n",
       "<style scoped>\n",
       "    .dataframe tbody tr th:only-of-type {\n",
       "        vertical-align: middle;\n",
       "    }\n",
       "\n",
       "    .dataframe tbody tr th {\n",
       "        vertical-align: top;\n",
       "    }\n",
       "\n",
       "    .dataframe thead th {\n",
       "        text-align: right;\n",
       "    }\n",
       "</style>\n",
       "<table border=\"1\" class=\"dataframe\">\n",
       "  <thead>\n",
       "    <tr style=\"text-align: right;\">\n",
       "      <th></th>\n",
       "      <th>order_id</th>\n",
       "      <th>quantity</th>\n",
       "      <th>item_name</th>\n",
       "      <th>choice_description</th>\n",
       "      <th>item_price</th>\n",
       "    </tr>\n",
       "  </thead>\n",
       "  <tbody>\n",
       "    <tr>\n",
       "      <th>0</th>\n",
       "      <td>1</td>\n",
       "      <td>1</td>\n",
       "      <td>Chips and Fresh Tomato Salsa</td>\n",
       "      <td>NaN</td>\n",
       "      <td>2.39</td>\n",
       "    </tr>\n",
       "    <tr>\n",
       "      <th>1</th>\n",
       "      <td>1</td>\n",
       "      <td>1</td>\n",
       "      <td>Izze</td>\n",
       "      <td>[Clementine]</td>\n",
       "      <td>3.39</td>\n",
       "    </tr>\n",
       "    <tr>\n",
       "      <th>2</th>\n",
       "      <td>1</td>\n",
       "      <td>1</td>\n",
       "      <td>Nantucket Nectar</td>\n",
       "      <td>[Apple]</td>\n",
       "      <td>3.39</td>\n",
       "    </tr>\n",
       "    <tr>\n",
       "      <th>3</th>\n",
       "      <td>1</td>\n",
       "      <td>1</td>\n",
       "      <td>Chips and Tomatillo-Green Chili Salsa</td>\n",
       "      <td>NaN</td>\n",
       "      <td>2.39</td>\n",
       "    </tr>\n",
       "    <tr>\n",
       "      <th>4</th>\n",
       "      <td>2</td>\n",
       "      <td>2</td>\n",
       "      <td>Chicken Bowl</td>\n",
       "      <td>[Tomatillo-Red Chili Salsa (Hot), [Black Beans...</td>\n",
       "      <td>16.98</td>\n",
       "    </tr>\n",
       "    <tr>\n",
       "      <th>5</th>\n",
       "      <td>3</td>\n",
       "      <td>1</td>\n",
       "      <td>Chicken Bowl</td>\n",
       "      <td>[Fresh Tomato Salsa (Mild), [Rice, Cheese, Sou...</td>\n",
       "      <td>10.98</td>\n",
       "    </tr>\n",
       "    <tr>\n",
       "      <th>6</th>\n",
       "      <td>3</td>\n",
       "      <td>1</td>\n",
       "      <td>Side of Chips</td>\n",
       "      <td>NaN</td>\n",
       "      <td>1.69</td>\n",
       "    </tr>\n",
       "    <tr>\n",
       "      <th>7</th>\n",
       "      <td>4</td>\n",
       "      <td>1</td>\n",
       "      <td>Steak Burrito</td>\n",
       "      <td>[Tomatillo Red Chili Salsa, [Fajita Vegetables...</td>\n",
       "      <td>11.75</td>\n",
       "    </tr>\n",
       "    <tr>\n",
       "      <th>8</th>\n",
       "      <td>4</td>\n",
       "      <td>1</td>\n",
       "      <td>Steak Soft Tacos</td>\n",
       "      <td>[Tomatillo Green Chili Salsa, [Pinto Beans, Ch...</td>\n",
       "      <td>9.25</td>\n",
       "    </tr>\n",
       "    <tr>\n",
       "      <th>9</th>\n",
       "      <td>5</td>\n",
       "      <td>1</td>\n",
       "      <td>Steak Burrito</td>\n",
       "      <td>[Fresh Tomato Salsa, [Rice, Black Beans, Pinto...</td>\n",
       "      <td>9.25</td>\n",
       "    </tr>\n",
       "    <tr>\n",
       "      <th>10</th>\n",
       "      <td>5</td>\n",
       "      <td>1</td>\n",
       "      <td>Chips and Guacamole</td>\n",
       "      <td>NaN</td>\n",
       "      <td>4.45</td>\n",
       "    </tr>\n",
       "  </tbody>\n",
       "</table>\n",
       "</div>"
      ],
      "text/plain": [
       "    order_id  quantity                              item_name  \\\n",
       "0          1         1           Chips and Fresh Tomato Salsa   \n",
       "1          1         1                                   Izze   \n",
       "2          1         1                       Nantucket Nectar   \n",
       "3          1         1  Chips and Tomatillo-Green Chili Salsa   \n",
       "4          2         2                           Chicken Bowl   \n",
       "5          3         1                           Chicken Bowl   \n",
       "6          3         1                          Side of Chips   \n",
       "7          4         1                          Steak Burrito   \n",
       "8          4         1                       Steak Soft Tacos   \n",
       "9          5         1                          Steak Burrito   \n",
       "10         5         1                    Chips and Guacamole   \n",
       "\n",
       "                                   choice_description  item_price  \n",
       "0                                                 NaN        2.39  \n",
       "1                                        [Clementine]        3.39  \n",
       "2                                             [Apple]        3.39  \n",
       "3                                                 NaN        2.39  \n",
       "4   [Tomatillo-Red Chili Salsa (Hot), [Black Beans...       16.98  \n",
       "5   [Fresh Tomato Salsa (Mild), [Rice, Cheese, Sou...       10.98  \n",
       "6                                                 NaN        1.69  \n",
       "7   [Tomatillo Red Chili Salsa, [Fajita Vegetables...       11.75  \n",
       "8   [Tomatillo Green Chili Salsa, [Pinto Beans, Ch...        9.25  \n",
       "9   [Fresh Tomato Salsa, [Rice, Black Beans, Pinto...        9.25  \n",
       "10                                                NaN        4.45  "
      ]
     },
     "execution_count": 104,
     "metadata": {},
     "output_type": "execute_result"
    }
   ],
   "source": [
    "orders.loc[0:10]"
   ]
  },
  {
   "cell_type": "code",
   "execution_count": 164,
   "metadata": {},
   "outputs": [
    {
     "data": {
      "text/plain": [
       "order_id                                                              4\n",
       "quantity                                                              1\n",
       "item_name                                                 Steak Burrito\n",
       "choice_description    [Tomatillo Red Chili Salsa, [Fajita Vegetables...\n",
       "item_price                                                        11.75\n",
       "Name: 7, dtype: object"
      ]
     },
     "execution_count": 164,
     "metadata": {},
     "output_type": "execute_result"
    }
   ],
   "source": [
    "orders.loc[7]"
   ]
  },
  {
   "cell_type": "code",
   "execution_count": 139,
   "metadata": {},
   "outputs": [],
   "source": [
    "second_orders = orders.loc[orders.quantity == 2]"
   ]
  },
  {
   "cell_type": "code",
   "execution_count": 177,
   "metadata": {},
   "outputs": [
    {
     "data": {
      "text/plain": [
       "'[Roasted Chili Corn Salsa, [Fajita Vegetables, Rice, Black Beans, Cheese, Sour Cream, Guacamole, Lettuce]]'"
      ]
     },
     "execution_count": 177,
     "metadata": {},
     "output_type": "execute_result"
    }
   ],
   "source": [
    "orders.loc[orders.quantity == 3].loc[3480].choice_description"
   ]
  },
  {
   "cell_type": "code",
   "execution_count": 146,
   "metadata": {},
   "outputs": [
    {
     "name": "stderr",
     "output_type": "stream",
     "text": [
      "/Users/flatironschool/anaconda/lib/python3.5/site-packages/pandas/core/generic.py:4401: SettingWithCopyWarning: \n",
      "A value is trying to be set on a copy of a slice from a DataFrame.\n",
      "Try using .loc[row_indexer,col_indexer] = value instead\n",
      "\n",
      "See the caveats in the documentation: http://pandas.pydata.org/pandas-docs/stable/indexing.html#indexing-view-versus-copy\n",
      "  self[name] = value\n"
     ]
    }
   ],
   "source": [
    "second_orders.choice_description = '[' + second_orders.choice_description "
   ]
  },
  {
   "cell_type": "code",
   "execution_count": 181,
   "metadata": {},
   "outputs": [
    {
     "data": {
      "text/plain": [
       "['[[Tomatillo-Red Chili Salsa (Hot), [Black Beans, Rice, Cheese, Sour Cream]]',\n",
       " '[[Sprite]',\n",
       " '[[Mountain Dew]',\n",
       " '[[Tomatillo Green Chili Salsa, [Sour Cream, Cheese, Guacamole]]',\n",
       " '[[Tomatillo-Red Chili Salsa (Hot), [Rice, Cheese, Sour Cream, Lettuce]]',\n",
       " '[[Tomatillo Red Chili Salsa, [Rice, Black Beans, Sour Cream, Cheese, Lettuce]]',\n",
       " '[[Fresh Tomato Salsa, [Fajita Vegetables, Rice, Lettuce]]',\n",
       " '[[Diet Coke]',\n",
       " '[[Diet Dr. Pepper]',\n",
       " '[[Fresh Tomato Salsa, [Fajita Vegetables, Pinto Beans, Guacamole]]',\n",
       " '[[Tomatillo Red Chili Salsa, [Cheese, Sour Cream, Lettuce]]',\n",
       " nan,\n",
       " nan,\n",
       " '[[Tomatillo Red Chili Salsa, [Rice, Black Beans, Cheese, Sour Cream, Lettuce]]',\n",
       " '[[Tomatillo Red Chili Salsa, [Black Beans, Cheese, Guacamole]]',\n",
       " '[[Fresh Tomato Salsa, [Rice, Black Beans, Cheese, Sour Cream]]',\n",
       " '[[Fresh Tomato Salsa, Fajita Vegetables]',\n",
       " '[[Diet Coke]',\n",
       " '[[Coca Cola]',\n",
       " '[[Fresh Tomato (Mild), [Lettuce, Guacamole, Rice, Cheese]]',\n",
       " '[[Fresh Tomato Salsa, Sour Cream]',\n",
       " '[[Tomatillo Red Chili Salsa]',\n",
       " '[[Fresh Tomato Salsa, [Sour Cream, Lettuce]]',\n",
       " '[[Diet Coke]',\n",
       " '[[Roasted Chili Corn Salsa, [Fajita Vegetables, Rice, Black Beans, Cheese, Sour Cream, Guacamole, Lettuce]]',\n",
       " '[[Fresh Tomato Salsa, [Sour Cream, Lettuce, Cheese, Rice]]',\n",
       " nan,\n",
       " '[[Fresh Tomato (Mild), [Lettuce, Guacamole, Rice, Cheese]]',\n",
       " '[[Fresh Tomato Salsa (Mild), [Pinto Beans, Rice, Cheese, Sour Cream, Lettuce]]',\n",
       " '[[Tomatillo Green Chili Salsa, [Black Beans, Sour Cream, Cheese, Lettuce, Guacamole]]',\n",
       " '[[Pineapple Orange Banana]',\n",
       " '[[Tomatillo Red Chili Salsa, [Fajita Vegetables, Black Beans, Cheese, Guacamole, Lettuce]]',\n",
       " '[[Tomatillo Green Chili Salsa, [Black Beans, Cheese, Guacamole]]',\n",
       " '[[Fresh Tomato Salsa, [Rice, Cheese, Sour Cream]]',\n",
       " '[[Coke]',\n",
       " '[[Fresh Tomato Salsa, [Fajita Vegetables, Rice, Lettuce]]',\n",
       " '[[Coca Cola]',\n",
       " '[[Coca Cola]',\n",
       " '[[Coke]',\n",
       " nan,\n",
       " '[[Tomatillo Green Chili Salsa, [Black Beans, Cheese, Guacamole]]',\n",
       " nan,\n",
       " '[[Fresh Tomato Salsa (Mild), [Rice, Sour Cream, Cheese, Pinto Beans]]',\n",
       " '[[Fresh Tomato Salsa, [Black Beans, Cheese, Guacamole]]',\n",
       " nan,\n",
       " '[[Tomatillo Red Chili Salsa]',\n",
       " nan,\n",
       " '[[Mountain Dew]',\n",
       " '[[Roasted Chili Corn Salsa (Medium), [Black Beans, Rice, Cheese]]',\n",
       " '[[Fresh Tomato Salsa, [Fajita Vegetables, Rice, Lettuce]]',\n",
       " nan,\n",
       " '[[Fresh Tomato Salsa, [Rice, Cheese, Black Beans]]',\n",
       " '[[Dr. Pepper]',\n",
       " '[[Coca Cola]',\n",
       " '[[Fresh Tomato Salsa, [Fajita Vegetables, Rice, Lettuce]]',\n",
       " '[[Fresh Tomato Salsa, [Black Beans, Cheese, Guacamole]]',\n",
       " '[[Fresh Tomato Salsa, Rice]',\n",
       " nan,\n",
       " nan,\n",
       " '[[Tomatillo Red Chili Salsa, [Cheese, Rice, Black Beans]]',\n",
       " nan,\n",
       " nan,\n",
       " '[[[Tomatillo-Green Chili Salsa (Medium), Tomatillo-Red Chili Salsa (Hot)], [Black Beans, Rice, Fajita Veggies, Sour Cream]]',\n",
       " nan,\n",
       " '[[Coke]',\n",
       " nan,\n",
       " nan,\n",
       " '[[Coke]',\n",
       " '[[Lemonade]',\n",
       " '[[Diet Coke]',\n",
       " nan,\n",
       " '[[Fresh Tomato Salsa, [Rice, Sour Cream, Guacamole]]',\n",
       " '[[Fresh Tomato Salsa, Rice]',\n",
       " nan,\n",
       " '[[Fresh Tomato Salsa, [Rice, Black Beans, Cheese, Sour Cream, Guacamole]]',\n",
       " '[[Fresh Tomato Salsa, [Fajita Vegetables, Rice, Sour Cream, Lettuce]]',\n",
       " nan,\n",
       " nan,\n",
       " nan,\n",
       " '[[Tomatillo Red Chili Salsa, Rice]',\n",
       " '[[Tomatillo-Red Chili Salsa (Hot), [Lettuce, Guacamole, Sour Cream, Cheese, Rice, Black Beans]]',\n",
       " '[[Tomatillo Green Chili Salsa, [Fajita Vegetables, Rice, Cheese, Sour Cream, Guacamole, Lettuce]]',\n",
       " '[[Diet Coke]',\n",
       " nan,\n",
       " '[[Tomatillo-Red Chili Salsa (Hot), [Sour Cream, Cheese, Fajita Veggies, Guacamole, Rice, Pinto Beans]]',\n",
       " '[[Fresh Tomato Salsa, [Fajita Vegetables, Rice, Pinto Beans, Cheese, Sour Cream]]',\n",
       " nan,\n",
       " '[[Coke]',\n",
       " '[[Diet Coke]',\n",
       " nan,\n",
       " nan,\n",
       " nan,\n",
       " '[[Fresh Tomato Salsa, [Sour Cream, Cheese, Rice]]',\n",
       " '[[Tomatillo Green Chili Salsa, [Black Beans, Cheese, Guacamole]]',\n",
       " '[[Dr. Pepper]',\n",
       " nan,\n",
       " '[[Fresh Tomato Salsa, [Rice, Black Beans, Cheese, Sour Cream, Lettuce]]',\n",
       " nan,\n",
       " nan,\n",
       " nan,\n",
       " '[[Fresh Tomato Salsa, Rice]',\n",
       " '[[Fresh Tomato Salsa, [Rice, Black Beans, Cheese, Sour Cream, Lettuce]]',\n",
       " '[[Fresh Tomato Salsa, [Lettuce, Rice, Black Beans, Cheese]]',\n",
       " nan,\n",
       " '[[Tomatillo-Red Chili Salsa (Hot), [Pinto Beans, Cheese, Sour Cream, Rice, Fajita Veggies, Guacamole]]',\n",
       " '[[Fresh Tomato Salsa, [Black Beans, Cheese, Sour Cream]]',\n",
       " nan,\n",
       " '[[Diet Coke]',\n",
       " nan,\n",
       " nan,\n",
       " nan,\n",
       " '[[Coke]',\n",
       " '[[[Fresh Tomato Salsa (Mild), Roasted Chili Corn Salsa (Medium)], [Rice, Fajita Veggies]]',\n",
       " nan,\n",
       " '[[Peach Orange]',\n",
       " '[[Fresh Tomato Salsa (Mild), [Pinto Beans, Cheese, Lettuce]]',\n",
       " '[[Tomatillo Green Chili Salsa, [Black Beans, Cheese, Guacamole]]',\n",
       " nan,\n",
       " nan,\n",
       " nan,\n",
       " '[[Roasted Chili Corn Salsa, [Rice, Black Beans, Cheese, Guacamole]]',\n",
       " '[[Sprite]',\n",
       " '[[Tomatillo-Red Chili Salsa (Hot), [Rice, Fajita Veggies, Pinto Beans, Sour Cream, Cheese, Guacamole]]',\n",
       " nan,\n",
       " '[[[Roasted Chili Corn Salsa (Medium), Fresh Tomato Salsa (Mild)], [Rice, Fajita Veggies]]',\n",
       " '[[Tomatillo Red Chili Salsa, [Rice, Pinto Beans, Cheese, Sour Cream]]',\n",
       " '[[Fresh Tomato Salsa, [Rice, Black Beans, Cheese, Sour Cream, Lettuce]]',\n",
       " '[[Fresh Tomato Salsa, [Rice, Black Beans, Cheese, Sour Cream]]',\n",
       " nan,\n",
       " nan,\n",
       " '[[Fresh Tomato Salsa, [Rice, Black Beans, Cheese, Sour Cream, Lettuce]]',\n",
       " nan,\n",
       " nan,\n",
       " nan,\n",
       " '[[Diet Coke]',\n",
       " '[[[Roasted Chili Corn Salsa (Medium), Fresh Tomato Salsa (Mild)], [Rice, Fajita Veggies]]',\n",
       " nan,\n",
       " '[[Tomatillo-Red Chili Salsa (Hot), [Pinto Beans, Cheese, Sour Cream, Lettuce]]',\n",
       " '[[Coca Cola]',\n",
       " '[[Sprite]',\n",
       " '[[Tomatillo-Green Chili Salsa (Medium), [Black Beans, Rice, Fajita Veggies, Cheese, Sour Cream, Guacamole, Lettuce]]',\n",
       " '[[Fresh Tomato Salsa, [Cheese, Rice, Black Beans, Lettuce]]',\n",
       " '[[[Tomatillo-Green Chili Salsa (Medium), Roasted Chili Corn Salsa (Medium), Tomatillo-Red Chili Salsa (Hot)], [Black Beans, Rice, Cheese, Sour Cream, Guacamole, Lettuce]]',\n",
       " '[[Fresh Tomato Salsa, [Rice, Black Beans, Cheese, Sour Cream]]',\n",
       " '[[Sprite]',\n",
       " nan,\n",
       " '[[Diet Coke]',\n",
       " nan,\n",
       " nan,\n",
       " '[[[Roasted Chili Corn Salsa (Medium), Fresh Tomato Salsa (Mild)], [Rice, Fajita Veggies]]',\n",
       " '[[[Fresh Tomato Salsa (Mild), Roasted Chili Corn Salsa (Medium)], [Fajita Veggies, Rice]]',\n",
       " '[[Tomatillo Red Chili Salsa, [Cheese, Black Beans, Rice, Lettuce, Sour Cream]]',\n",
       " '[[Coke]',\n",
       " '[[Tomatillo-Red Chili Salsa (Hot), [Pinto Beans, Rice, Fajita Veggies, Cheese, Sour Cream, Guacamole]]',\n",
       " '[[Dr. Pepper]',\n",
       " nan,\n",
       " '[[Diet Coke]',\n",
       " '[[Fresh Tomato Salsa, [Pinto Beans, Cheese, Lettuce]]',\n",
       " '[[Fresh Tomato Salsa, [Sour Cream, Cheese, Pinto Beans, Rice]]',\n",
       " '[[Diet Coke]',\n",
       " nan,\n",
       " '[[Tomatillo-Green Chili Salsa (Medium), [Pinto Beans, Rice, Fajita Veggies, Cheese, Sour Cream, Guacamole, Lettuce]]',\n",
       " '[[Fresh Tomato Salsa, [Rice, Black Beans, Cheese]]',\n",
       " '[[Coca Cola]',\n",
       " '[[Roasted Chili Corn Salsa (Medium), [Black Beans, Rice, Cheese, Sour Cream]]',\n",
       " '[[Diet Coke]',\n",
       " '[[Diet Coke]',\n",
       " '[[Fresh Tomato Salsa, [Rice, Cheese, Sour Cream, Lettuce]]',\n",
       " '[[Tomatillo Green Chili Salsa, [Black Beans, Cheese, Guacamole]]',\n",
       " '[[Tomatillo-Red Chili Salsa (Hot), [Pinto Beans, Rice, Fajita Veggies, Cheese, Sour Cream, Guacamole]]',\n",
       " '[[Coke]',\n",
       " '[[Diet Coke]',\n",
       " nan,\n",
       " '[[Diet Coke]',\n",
       " '[[Tomatillo-Red Chili Salsa (Hot), [Cheese, Sour Cream, Fajita Veggies, Pinto Beans, Rice]]',\n",
       " '[[Fresh Tomato Salsa (Mild), [Black Beans, Rice, Fajita Veggies, Cheese]]',\n",
       " '[[Fresh Tomato Salsa (Mild), [Black Beans, Rice, Fajita Veggies, Cheese]]',\n",
       " '[[Fresh Tomato Salsa (Mild), [Black Beans, Rice, Fajita Veggies, Cheese, Lettuce]]',\n",
       " '[[Fresh Tomato Salsa (Mild), [Black Beans, Rice, Fajita Veggies, Cheese]]',\n",
       " nan,\n",
       " '[[[Tomatillo-Green Chili Salsa (Medium), Fresh Tomato Salsa (Mild)], [Cheese, Sour Cream, Guacamole]]',\n",
       " '[[[Roasted Chili Corn Salsa (Medium), Fresh Tomato Salsa (Mild)], [Rice, Fajita Veggies]]',\n",
       " '[[Fresh Tomato Salsa, [Rice, Black Beans, Cheese, Sour Cream, Lettuce]]',\n",
       " '[[Roasted Chili Corn Salsa (Medium), [Sour Cream, Cheese, Black Beans, Rice]]',\n",
       " '[[Diet Coke]',\n",
       " '[[Tomatillo Red Chili Salsa, [Fajita Vegetables, Rice, Black Beans, Cheese, Sour Cream, Guacamole, Lettuce]]',\n",
       " '[[Tomatillo Red Chili Salsa, [Rice, Black Beans, Cheese]]',\n",
       " nan,\n",
       " nan,\n",
       " '[[[Lettuce, Rice]]',\n",
       " '[[Tomatillo-Red Chili Salsa (Hot), [Rice, Pinto Beans, Fajita Veggies, Cheese, Sour Cream, Guacamole]]',\n",
       " '[[Fresh Tomato Salsa, [Fajita Vegetables, Rice, Pinto Beans, Cheese, Sour Cream, Lettuce]]',\n",
       " '[[Mountain Dew]',\n",
       " '[[Coke]',\n",
       " '[[Fresh Tomato Salsa (Mild), [Pinto Beans, Rice, Cheese, Lettuce]]',\n",
       " '[[Fresh Tomato Salsa (Mild), [Black Beans, Rice, Cheese, Lettuce]]',\n",
       " '[[Fresh Tomato Salsa (Mild), [Cheese, Lettuce]]',\n",
       " '[[Fresh Tomato Salsa (Mild), [Rice, Cheese, Sour Cream, Lettuce]]',\n",
       " '[[Tomatillo Red Chili Salsa, [Cheese, Black Beans, Rice]]',\n",
       " nan,\n",
       " '[[Fresh Tomato Salsa, [Lettuce, Sour Cream, Cheese, Fajita Vegetables, Pinto Beans, Rice]]',\n",
       " '[[[Roasted Chili Corn Salsa (Medium), Fresh Tomato Salsa (Mild)], [Rice, Fajita Veggies]]',\n",
       " '[[Diet Coke]',\n",
       " '[[Coke]',\n",
       " '[[Fresh Tomato Salsa, [Rice, Pinto Beans, Cheese, Sour Cream, Lettuce]]',\n",
       " '[[Fresh Tomato Salsa, [Rice, Black Beans, Cheese, Sour Cream]]',\n",
       " nan,\n",
       " '[[Fresh Tomato Salsa, Rice]',\n",
       " '[[Fresh Tomato Salsa, [Rice, Black Beans, Cheese]]',\n",
       " nan,\n",
       " '[[Fresh Tomato Salsa, [Fajita Vegetables, Sour Cream, Cheese, Lettuce, Guacamole]]',\n",
       " '[[Tomatillo Red Chili Salsa, [Rice, Black Beans, Cheese, Lettuce, Sour Cream]]',\n",
       " nan,\n",
       " nan,\n",
       " '[[Fresh Tomato Salsa, [Cheese, Lettuce]]',\n",
       " nan,\n",
       " nan,\n",
       " '[[Fresh Tomato Salsa, [Rice, Fajita Vegetables, Black Beans, Sour Cream, Cheese, Lettuce, Guacamole]]',\n",
       " '[[Fresh Tomato Salsa, [Rice, Pinto Beans, Sour Cream, Cheese, Lettuce, Guacamole]]',\n",
       " '[[Fresh Tomato Salsa, [Rice, Pinto Beans, Cheese, Lettuce]]',\n",
       " '[[Coke]',\n",
       " '[[Coke]',\n",
       " '[[Fresh Tomato Salsa, [Fajita Vegetables, Pinto Beans, Lettuce]]',\n",
       " nan]"
      ]
     },
     "execution_count": 181,
     "metadata": {},
     "output_type": "execute_result"
    }
   ],
   "source": [
    "second_orders.choice_description.tolist()"
   ]
  },
  {
   "cell_type": "markdown",
   "metadata": {},
   "source": [
    "### Sorting a series"
   ]
  },
  {
   "cell_type": "code",
   "execution_count": null,
   "metadata": {},
   "outputs": [],
   "source": [
    "orders.item_price.sort_values()"
   ]
  },
  {
   "cell_type": "code",
   "execution_count": 87,
   "metadata": {},
   "outputs": [
    {
     "data": {
      "text/plain": [
       "3598    44.25\n",
       "3480    35.25\n",
       "1254    35.00\n",
       "3602    35.00\n",
       "3601    33.75\n",
       "409     32.94\n",
       "1255    27.75\n",
       "3603    27.75\n",
       "3636    26.25\n",
       "3634    26.25\n",
       "Name: item_price, dtype: float64"
      ]
     },
     "execution_count": 87,
     "metadata": {},
     "output_type": "execute_result"
    }
   ],
   "source": [
    "orders.item_price.sort_values(ascending=False)[0:10]"
   ]
  },
  {
   "cell_type": "markdown",
   "metadata": {},
   "source": [
    "### Sorting a dataframe"
   ]
  },
  {
   "cell_type": "code",
   "execution_count": null,
   "metadata": {},
   "outputs": [],
   "source": [
    "orders.sort_values('item_price')"
   ]
  },
  {
   "cell_type": "markdown",
   "metadata": {},
   "source": [
    "### String methods in pandas"
   ]
  },
  {
   "cell_type": "code",
   "execution_count": 187,
   "metadata": {},
   "outputs": [
    {
     "data": {
      "text/plain": [
       "array([[1, 1, 'Chips and Fresh Tomato Salsa', nan, 2.39],\n",
       "       [1, 1, 'Izze', '[Clementine]', 3.39],\n",
       "       [1, 1, 'Nantucket Nectar', '[Apple]', 3.39],\n",
       "       ...,\n",
       "       [1834, 1, 'Chicken Salad Bowl',\n",
       "        '[Fresh Tomato Salsa, [Fajita Vegetables, Pinto Beans, Guacamole, Lettuce]]',\n",
       "        11.25],\n",
       "       [1834, 1, 'Chicken Salad Bowl',\n",
       "        '[Fresh Tomato Salsa, [Fajita Vegetables, Lettuce]]', 8.75],\n",
       "       [1834, 1, 'Chicken Salad Bowl',\n",
       "        '[Fresh Tomato Salsa, [Fajita Vegetables, Pinto Beans, Lettuce]]',\n",
       "        8.75]], dtype=object)"
      ]
     },
     "execution_count": 187,
     "metadata": {},
     "output_type": "execute_result"
    }
   ],
   "source": [
    "orders.values"
   ]
  },
  {
   "cell_type": "code",
   "execution_count": null,
   "metadata": {},
   "outputs": [],
   "source": []
  }
 ],
 "metadata": {
  "kernelspec": {
   "display_name": "Python 3",
   "language": "python",
   "name": "python3"
  },
  "language_info": {
   "codemirror_mode": {
    "name": "ipython",
    "version": 3
   },
   "file_extension": ".py",
   "mimetype": "text/x-python",
   "name": "python",
   "nbconvert_exporter": "python",
   "pygments_lexer": "ipython3",
   "version": "3.5.5"
  }
 },
 "nbformat": 4,
 "nbformat_minor": 2
}
